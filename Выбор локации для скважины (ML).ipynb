{
 "cells": [
  {
   "cell_type": "markdown",
   "metadata": {},
   "source": [
    "# Выбор локации для скважины"
   ]
  },
  {
   "cell_type": "markdown",
   "metadata": {},
   "source": [
    "В ходе проекта необходимо спрогнозировать место для бурения.\n",
    "\n",
    "Нам предоставлены пробы нефти в трёх регионах: в каждом 10 000 месторождений, где измерили качество нефти и объём её запасов. Постройте модель машинного обучения, которая поможет определить регион, где добыча принесёт наибольшую прибыль. Проанализируем возможную прибыль и риски техникой *Bootstrap.*\n",
    "\n",
    "Шаги для выбора локации:\n",
    "\n",
    "- В избранном регионе ищут месторождения, для каждого определяют значения признаков;\n",
    "- Строят модель и оценивают объём запасов;\n",
    "- Выбирают месторождения с самым высокими оценками значений. Количество месторождений зависит от бюджета компании и стоимости разработки одной скважины;\n",
    "- Прибыль равна суммарной прибыли отобранных месторождений."
   ]
  },
  {
   "cell_type": "markdown",
   "metadata": {},
   "source": [
    "## Загрузка и подготовка данных"
   ]
  },
  {
   "cell_type": "markdown",
   "metadata": {},
   "source": [
    "Загрузим имеющиеся у нас в распоряжении 3 датасета, изучим их составляющие, оценим данные с точки зрения логики и рассмотрим как они коррелируют между собой."
   ]
  },
  {
   "cell_type": "code",
   "execution_count": 1,
   "metadata": {},
   "outputs": [],
   "source": [
    "#импортируем требуемые библиотеки\n",
    "import pandas as pd\n",
    "import numpy as np\n",
    "from random import randrange\n",
    "from sklearn.model_selection import train_test_split\n",
    "from sklearn.metrics import accuracy_score\n",
    "from sklearn.linear_model import LinearRegression\n",
    "from sklearn.metrics import mean_absolute_error\n",
    "from sklearn.metrics import mean_squared_error\n",
    "\n",
    "from sklearn.model_selection import cross_val_score"
   ]
  },
  {
   "cell_type": "code",
   "execution_count": 2,
   "metadata": {
    "scrolled": true
   },
   "outputs": [
    {
     "data": {
      "text/html": [
       "<div>\n",
       "<style scoped>\n",
       "    .dataframe tbody tr th:only-of-type {\n",
       "        vertical-align: middle;\n",
       "    }\n",
       "\n",
       "    .dataframe tbody tr th {\n",
       "        vertical-align: top;\n",
       "    }\n",
       "\n",
       "    .dataframe thead th {\n",
       "        text-align: right;\n",
       "    }\n",
       "</style>\n",
       "<table border=\"1\" class=\"dataframe\">\n",
       "  <thead>\n",
       "    <tr style=\"text-align: right;\">\n",
       "      <th></th>\n",
       "      <th>id</th>\n",
       "      <th>f0</th>\n",
       "      <th>f1</th>\n",
       "      <th>f2</th>\n",
       "      <th>product</th>\n",
       "    </tr>\n",
       "  </thead>\n",
       "  <tbody>\n",
       "    <tr>\n",
       "      <th>0</th>\n",
       "      <td>txEyH</td>\n",
       "      <td>0.705745</td>\n",
       "      <td>-0.497823</td>\n",
       "      <td>1.221170</td>\n",
       "      <td>105.280062</td>\n",
       "    </tr>\n",
       "    <tr>\n",
       "      <th>1</th>\n",
       "      <td>2acmU</td>\n",
       "      <td>1.334711</td>\n",
       "      <td>-0.340164</td>\n",
       "      <td>4.365080</td>\n",
       "      <td>73.037750</td>\n",
       "    </tr>\n",
       "    <tr>\n",
       "      <th>2</th>\n",
       "      <td>409Wp</td>\n",
       "      <td>1.022732</td>\n",
       "      <td>0.151990</td>\n",
       "      <td>1.419926</td>\n",
       "      <td>85.265647</td>\n",
       "    </tr>\n",
       "    <tr>\n",
       "      <th>3</th>\n",
       "      <td>iJLyR</td>\n",
       "      <td>-0.032172</td>\n",
       "      <td>0.139033</td>\n",
       "      <td>2.978566</td>\n",
       "      <td>168.620776</td>\n",
       "    </tr>\n",
       "    <tr>\n",
       "      <th>4</th>\n",
       "      <td>Xdl7t</td>\n",
       "      <td>1.988431</td>\n",
       "      <td>0.155413</td>\n",
       "      <td>4.751769</td>\n",
       "      <td>154.036647</td>\n",
       "    </tr>\n",
       "  </tbody>\n",
       "</table>\n",
       "</div>"
      ],
      "text/plain": [
       "      id        f0        f1        f2     product\n",
       "0  txEyH  0.705745 -0.497823  1.221170  105.280062\n",
       "1  2acmU  1.334711 -0.340164  4.365080   73.037750\n",
       "2  409Wp  1.022732  0.151990  1.419926   85.265647\n",
       "3  iJLyR -0.032172  0.139033  2.978566  168.620776\n",
       "4  Xdl7t  1.988431  0.155413  4.751769  154.036647"
      ]
     },
     "execution_count": 2,
     "metadata": {},
     "output_type": "execute_result"
    }
   ],
   "source": [
    "#загрузим датасет\n",
    "data_0 = pd.read_csv('/datasets/geo_data_0.csv')\n",
    "data_0.head()"
   ]
  },
  {
   "cell_type": "code",
   "execution_count": 3,
   "metadata": {
    "scrolled": true
   },
   "outputs": [
    {
     "data": {
      "text/html": [
       "<div>\n",
       "<style scoped>\n",
       "    .dataframe tbody tr th:only-of-type {\n",
       "        vertical-align: middle;\n",
       "    }\n",
       "\n",
       "    .dataframe tbody tr th {\n",
       "        vertical-align: top;\n",
       "    }\n",
       "\n",
       "    .dataframe thead th {\n",
       "        text-align: right;\n",
       "    }\n",
       "</style>\n",
       "<table border=\"1\" class=\"dataframe\">\n",
       "  <thead>\n",
       "    <tr style=\"text-align: right;\">\n",
       "      <th></th>\n",
       "      <th>f0</th>\n",
       "      <th>f1</th>\n",
       "      <th>f2</th>\n",
       "      <th>product</th>\n",
       "    </tr>\n",
       "  </thead>\n",
       "  <tbody>\n",
       "    <tr>\n",
       "      <th>count</th>\n",
       "      <td>100000.000000</td>\n",
       "      <td>100000.000000</td>\n",
       "      <td>100000.000000</td>\n",
       "      <td>100000.000000</td>\n",
       "    </tr>\n",
       "    <tr>\n",
       "      <th>mean</th>\n",
       "      <td>0.500419</td>\n",
       "      <td>0.250143</td>\n",
       "      <td>2.502647</td>\n",
       "      <td>92.500000</td>\n",
       "    </tr>\n",
       "    <tr>\n",
       "      <th>std</th>\n",
       "      <td>0.871832</td>\n",
       "      <td>0.504433</td>\n",
       "      <td>3.248248</td>\n",
       "      <td>44.288691</td>\n",
       "    </tr>\n",
       "    <tr>\n",
       "      <th>min</th>\n",
       "      <td>-1.408605</td>\n",
       "      <td>-0.848218</td>\n",
       "      <td>-12.088328</td>\n",
       "      <td>0.000000</td>\n",
       "    </tr>\n",
       "    <tr>\n",
       "      <th>25%</th>\n",
       "      <td>-0.072580</td>\n",
       "      <td>-0.200881</td>\n",
       "      <td>0.287748</td>\n",
       "      <td>56.497507</td>\n",
       "    </tr>\n",
       "    <tr>\n",
       "      <th>50%</th>\n",
       "      <td>0.502360</td>\n",
       "      <td>0.250252</td>\n",
       "      <td>2.515969</td>\n",
       "      <td>91.849972</td>\n",
       "    </tr>\n",
       "    <tr>\n",
       "      <th>75%</th>\n",
       "      <td>1.073581</td>\n",
       "      <td>0.700646</td>\n",
       "      <td>4.715088</td>\n",
       "      <td>128.564089</td>\n",
       "    </tr>\n",
       "    <tr>\n",
       "      <th>max</th>\n",
       "      <td>2.362331</td>\n",
       "      <td>1.343769</td>\n",
       "      <td>16.003790</td>\n",
       "      <td>185.364347</td>\n",
       "    </tr>\n",
       "  </tbody>\n",
       "</table>\n",
       "</div>"
      ],
      "text/plain": [
       "                  f0             f1             f2        product\n",
       "count  100000.000000  100000.000000  100000.000000  100000.000000\n",
       "mean        0.500419       0.250143       2.502647      92.500000\n",
       "std         0.871832       0.504433       3.248248      44.288691\n",
       "min        -1.408605      -0.848218     -12.088328       0.000000\n",
       "25%        -0.072580      -0.200881       0.287748      56.497507\n",
       "50%         0.502360       0.250252       2.515969      91.849972\n",
       "75%         1.073581       0.700646       4.715088     128.564089\n",
       "max         2.362331       1.343769      16.003790     185.364347"
      ]
     },
     "execution_count": 3,
     "metadata": {},
     "output_type": "execute_result"
    }
   ],
   "source": [
    "data_0.describe()"
   ]
  },
  {
   "cell_type": "code",
   "execution_count": 4,
   "metadata": {},
   "outputs": [
    {
     "data": {
      "text/html": [
       "<div>\n",
       "<style scoped>\n",
       "    .dataframe tbody tr th:only-of-type {\n",
       "        vertical-align: middle;\n",
       "    }\n",
       "\n",
       "    .dataframe tbody tr th {\n",
       "        vertical-align: top;\n",
       "    }\n",
       "\n",
       "    .dataframe thead th {\n",
       "        text-align: right;\n",
       "    }\n",
       "</style>\n",
       "<table border=\"1\" class=\"dataframe\">\n",
       "  <thead>\n",
       "    <tr style=\"text-align: right;\">\n",
       "      <th></th>\n",
       "      <th>f0</th>\n",
       "      <th>f1</th>\n",
       "      <th>f2</th>\n",
       "      <th>product</th>\n",
       "    </tr>\n",
       "  </thead>\n",
       "  <tbody>\n",
       "    <tr>\n",
       "      <th>f0</th>\n",
       "      <td>1.000000</td>\n",
       "      <td>-0.440723</td>\n",
       "      <td>-0.003153</td>\n",
       "      <td>0.143536</td>\n",
       "    </tr>\n",
       "    <tr>\n",
       "      <th>f1</th>\n",
       "      <td>-0.440723</td>\n",
       "      <td>1.000000</td>\n",
       "      <td>0.001724</td>\n",
       "      <td>-0.192356</td>\n",
       "    </tr>\n",
       "    <tr>\n",
       "      <th>f2</th>\n",
       "      <td>-0.003153</td>\n",
       "      <td>0.001724</td>\n",
       "      <td>1.000000</td>\n",
       "      <td>0.483663</td>\n",
       "    </tr>\n",
       "    <tr>\n",
       "      <th>product</th>\n",
       "      <td>0.143536</td>\n",
       "      <td>-0.192356</td>\n",
       "      <td>0.483663</td>\n",
       "      <td>1.000000</td>\n",
       "    </tr>\n",
       "  </tbody>\n",
       "</table>\n",
       "</div>"
      ],
      "text/plain": [
       "               f0        f1        f2   product\n",
       "f0       1.000000 -0.440723 -0.003153  0.143536\n",
       "f1      -0.440723  1.000000  0.001724 -0.192356\n",
       "f2      -0.003153  0.001724  1.000000  0.483663\n",
       "product  0.143536 -0.192356  0.483663  1.000000"
      ]
     },
     "execution_count": 4,
     "metadata": {},
     "output_type": "execute_result"
    }
   ],
   "source": [
    "data_0.drop(['id'], axis=1).corr()"
   ]
  },
  {
   "cell_type": "code",
   "execution_count": 5,
   "metadata": {},
   "outputs": [
    {
     "data": {
      "text/html": [
       "<div>\n",
       "<style scoped>\n",
       "    .dataframe tbody tr th:only-of-type {\n",
       "        vertical-align: middle;\n",
       "    }\n",
       "\n",
       "    .dataframe tbody tr th {\n",
       "        vertical-align: top;\n",
       "    }\n",
       "\n",
       "    .dataframe thead th {\n",
       "        text-align: right;\n",
       "    }\n",
       "</style>\n",
       "<table border=\"1\" class=\"dataframe\">\n",
       "  <thead>\n",
       "    <tr style=\"text-align: right;\">\n",
       "      <th></th>\n",
       "      <th>id</th>\n",
       "      <th>f0</th>\n",
       "      <th>f1</th>\n",
       "      <th>f2</th>\n",
       "      <th>product</th>\n",
       "    </tr>\n",
       "  </thead>\n",
       "  <tbody>\n",
       "    <tr>\n",
       "      <th>0</th>\n",
       "      <td>kBEdx</td>\n",
       "      <td>-15.001348</td>\n",
       "      <td>-8.276000</td>\n",
       "      <td>-0.005876</td>\n",
       "      <td>3.179103</td>\n",
       "    </tr>\n",
       "    <tr>\n",
       "      <th>1</th>\n",
       "      <td>62mP7</td>\n",
       "      <td>14.272088</td>\n",
       "      <td>-3.475083</td>\n",
       "      <td>0.999183</td>\n",
       "      <td>26.953261</td>\n",
       "    </tr>\n",
       "    <tr>\n",
       "      <th>2</th>\n",
       "      <td>vyE1P</td>\n",
       "      <td>6.263187</td>\n",
       "      <td>-5.948386</td>\n",
       "      <td>5.001160</td>\n",
       "      <td>134.766305</td>\n",
       "    </tr>\n",
       "    <tr>\n",
       "      <th>3</th>\n",
       "      <td>KcrkZ</td>\n",
       "      <td>-13.081196</td>\n",
       "      <td>-11.506057</td>\n",
       "      <td>4.999415</td>\n",
       "      <td>137.945408</td>\n",
       "    </tr>\n",
       "    <tr>\n",
       "      <th>4</th>\n",
       "      <td>AHL4O</td>\n",
       "      <td>12.702195</td>\n",
       "      <td>-8.147433</td>\n",
       "      <td>5.004363</td>\n",
       "      <td>134.766305</td>\n",
       "    </tr>\n",
       "  </tbody>\n",
       "</table>\n",
       "</div>"
      ],
      "text/plain": [
       "      id         f0         f1        f2     product\n",
       "0  kBEdx -15.001348  -8.276000 -0.005876    3.179103\n",
       "1  62mP7  14.272088  -3.475083  0.999183   26.953261\n",
       "2  vyE1P   6.263187  -5.948386  5.001160  134.766305\n",
       "3  KcrkZ -13.081196 -11.506057  4.999415  137.945408\n",
       "4  AHL4O  12.702195  -8.147433  5.004363  134.766305"
      ]
     },
     "execution_count": 5,
     "metadata": {},
     "output_type": "execute_result"
    }
   ],
   "source": [
    "#загрузим датасет\n",
    "data_1 = pd.read_csv('/datasets/geo_data_1.csv')\n",
    "data_1.head()"
   ]
  },
  {
   "cell_type": "code",
   "execution_count": 6,
   "metadata": {
    "scrolled": true
   },
   "outputs": [
    {
     "data": {
      "text/html": [
       "<div>\n",
       "<style scoped>\n",
       "    .dataframe tbody tr th:only-of-type {\n",
       "        vertical-align: middle;\n",
       "    }\n",
       "\n",
       "    .dataframe tbody tr th {\n",
       "        vertical-align: top;\n",
       "    }\n",
       "\n",
       "    .dataframe thead th {\n",
       "        text-align: right;\n",
       "    }\n",
       "</style>\n",
       "<table border=\"1\" class=\"dataframe\">\n",
       "  <thead>\n",
       "    <tr style=\"text-align: right;\">\n",
       "      <th></th>\n",
       "      <th>f0</th>\n",
       "      <th>f1</th>\n",
       "      <th>f2</th>\n",
       "      <th>product</th>\n",
       "    </tr>\n",
       "  </thead>\n",
       "  <tbody>\n",
       "    <tr>\n",
       "      <th>count</th>\n",
       "      <td>100000.000000</td>\n",
       "      <td>100000.000000</td>\n",
       "      <td>100000.000000</td>\n",
       "      <td>100000.000000</td>\n",
       "    </tr>\n",
       "    <tr>\n",
       "      <th>mean</th>\n",
       "      <td>1.141296</td>\n",
       "      <td>-4.796579</td>\n",
       "      <td>2.494541</td>\n",
       "      <td>68.825000</td>\n",
       "    </tr>\n",
       "    <tr>\n",
       "      <th>std</th>\n",
       "      <td>8.965932</td>\n",
       "      <td>5.119872</td>\n",
       "      <td>1.703572</td>\n",
       "      <td>45.944423</td>\n",
       "    </tr>\n",
       "    <tr>\n",
       "      <th>min</th>\n",
       "      <td>-31.609576</td>\n",
       "      <td>-26.358598</td>\n",
       "      <td>-0.018144</td>\n",
       "      <td>0.000000</td>\n",
       "    </tr>\n",
       "    <tr>\n",
       "      <th>25%</th>\n",
       "      <td>-6.298551</td>\n",
       "      <td>-8.267985</td>\n",
       "      <td>1.000021</td>\n",
       "      <td>26.953261</td>\n",
       "    </tr>\n",
       "    <tr>\n",
       "      <th>50%</th>\n",
       "      <td>1.153055</td>\n",
       "      <td>-4.813172</td>\n",
       "      <td>2.011479</td>\n",
       "      <td>57.085625</td>\n",
       "    </tr>\n",
       "    <tr>\n",
       "      <th>75%</th>\n",
       "      <td>8.621015</td>\n",
       "      <td>-1.332816</td>\n",
       "      <td>3.999904</td>\n",
       "      <td>107.813044</td>\n",
       "    </tr>\n",
       "    <tr>\n",
       "      <th>max</th>\n",
       "      <td>29.421755</td>\n",
       "      <td>18.734063</td>\n",
       "      <td>5.019721</td>\n",
       "      <td>137.945408</td>\n",
       "    </tr>\n",
       "  </tbody>\n",
       "</table>\n",
       "</div>"
      ],
      "text/plain": [
       "                  f0             f1             f2        product\n",
       "count  100000.000000  100000.000000  100000.000000  100000.000000\n",
       "mean        1.141296      -4.796579       2.494541      68.825000\n",
       "std         8.965932       5.119872       1.703572      45.944423\n",
       "min       -31.609576     -26.358598      -0.018144       0.000000\n",
       "25%        -6.298551      -8.267985       1.000021      26.953261\n",
       "50%         1.153055      -4.813172       2.011479      57.085625\n",
       "75%         8.621015      -1.332816       3.999904     107.813044\n",
       "max        29.421755      18.734063       5.019721     137.945408"
      ]
     },
     "execution_count": 6,
     "metadata": {},
     "output_type": "execute_result"
    }
   ],
   "source": [
    "data_1.describe()"
   ]
  },
  {
   "cell_type": "code",
   "execution_count": 7,
   "metadata": {},
   "outputs": [
    {
     "data": {
      "text/html": [
       "<div>\n",
       "<style scoped>\n",
       "    .dataframe tbody tr th:only-of-type {\n",
       "        vertical-align: middle;\n",
       "    }\n",
       "\n",
       "    .dataframe tbody tr th {\n",
       "        vertical-align: top;\n",
       "    }\n",
       "\n",
       "    .dataframe thead th {\n",
       "        text-align: right;\n",
       "    }\n",
       "</style>\n",
       "<table border=\"1\" class=\"dataframe\">\n",
       "  <thead>\n",
       "    <tr style=\"text-align: right;\">\n",
       "      <th></th>\n",
       "      <th>f0</th>\n",
       "      <th>f1</th>\n",
       "      <th>f2</th>\n",
       "      <th>product</th>\n",
       "    </tr>\n",
       "  </thead>\n",
       "  <tbody>\n",
       "    <tr>\n",
       "      <th>f0</th>\n",
       "      <td>1.000000</td>\n",
       "      <td>0.182287</td>\n",
       "      <td>-0.001777</td>\n",
       "      <td>-0.030491</td>\n",
       "    </tr>\n",
       "    <tr>\n",
       "      <th>f1</th>\n",
       "      <td>0.182287</td>\n",
       "      <td>1.000000</td>\n",
       "      <td>-0.002595</td>\n",
       "      <td>-0.010155</td>\n",
       "    </tr>\n",
       "    <tr>\n",
       "      <th>f2</th>\n",
       "      <td>-0.001777</td>\n",
       "      <td>-0.002595</td>\n",
       "      <td>1.000000</td>\n",
       "      <td>0.999397</td>\n",
       "    </tr>\n",
       "    <tr>\n",
       "      <th>product</th>\n",
       "      <td>-0.030491</td>\n",
       "      <td>-0.010155</td>\n",
       "      <td>0.999397</td>\n",
       "      <td>1.000000</td>\n",
       "    </tr>\n",
       "  </tbody>\n",
       "</table>\n",
       "</div>"
      ],
      "text/plain": [
       "               f0        f1        f2   product\n",
       "f0       1.000000  0.182287 -0.001777 -0.030491\n",
       "f1       0.182287  1.000000 -0.002595 -0.010155\n",
       "f2      -0.001777 -0.002595  1.000000  0.999397\n",
       "product -0.030491 -0.010155  0.999397  1.000000"
      ]
     },
     "execution_count": 7,
     "metadata": {},
     "output_type": "execute_result"
    }
   ],
   "source": [
    "data_1.drop(['id'], axis=1).corr()"
   ]
  },
  {
   "cell_type": "code",
   "execution_count": 8,
   "metadata": {},
   "outputs": [
    {
     "data": {
      "text/html": [
       "<div>\n",
       "<style scoped>\n",
       "    .dataframe tbody tr th:only-of-type {\n",
       "        vertical-align: middle;\n",
       "    }\n",
       "\n",
       "    .dataframe tbody tr th {\n",
       "        vertical-align: top;\n",
       "    }\n",
       "\n",
       "    .dataframe thead th {\n",
       "        text-align: right;\n",
       "    }\n",
       "</style>\n",
       "<table border=\"1\" class=\"dataframe\">\n",
       "  <thead>\n",
       "    <tr style=\"text-align: right;\">\n",
       "      <th></th>\n",
       "      <th>f0</th>\n",
       "      <th>f1</th>\n",
       "      <th>f2</th>\n",
       "      <th>product</th>\n",
       "    </tr>\n",
       "  </thead>\n",
       "  <tbody>\n",
       "    <tr>\n",
       "      <th>f0</th>\n",
       "      <td>1.000000</td>\n",
       "      <td>0.000528</td>\n",
       "      <td>-0.000448</td>\n",
       "      <td>-0.001987</td>\n",
       "    </tr>\n",
       "    <tr>\n",
       "      <th>f1</th>\n",
       "      <td>0.000528</td>\n",
       "      <td>1.000000</td>\n",
       "      <td>0.000779</td>\n",
       "      <td>-0.001012</td>\n",
       "    </tr>\n",
       "    <tr>\n",
       "      <th>f2</th>\n",
       "      <td>-0.000448</td>\n",
       "      <td>0.000779</td>\n",
       "      <td>1.000000</td>\n",
       "      <td>0.445871</td>\n",
       "    </tr>\n",
       "    <tr>\n",
       "      <th>product</th>\n",
       "      <td>-0.001987</td>\n",
       "      <td>-0.001012</td>\n",
       "      <td>0.445871</td>\n",
       "      <td>1.000000</td>\n",
       "    </tr>\n",
       "  </tbody>\n",
       "</table>\n",
       "</div>"
      ],
      "text/plain": [
       "               f0        f1        f2   product\n",
       "f0       1.000000  0.000528 -0.000448 -0.001987\n",
       "f1       0.000528  1.000000  0.000779 -0.001012\n",
       "f2      -0.000448  0.000779  1.000000  0.445871\n",
       "product -0.001987 -0.001012  0.445871  1.000000"
      ]
     },
     "execution_count": 8,
     "metadata": {},
     "output_type": "execute_result"
    }
   ],
   "source": [
    "#загрузим датасет\n",
    "data_2 = pd.read_csv('/datasets/geo_data_2.csv')\n",
    "data_2.drop(['id'], axis=1).corr().head()"
   ]
  },
  {
   "cell_type": "code",
   "execution_count": 9,
   "metadata": {},
   "outputs": [
    {
     "data": {
      "text/html": [
       "<div>\n",
       "<style scoped>\n",
       "    .dataframe tbody tr th:only-of-type {\n",
       "        vertical-align: middle;\n",
       "    }\n",
       "\n",
       "    .dataframe tbody tr th {\n",
       "        vertical-align: top;\n",
       "    }\n",
       "\n",
       "    .dataframe thead th {\n",
       "        text-align: right;\n",
       "    }\n",
       "</style>\n",
       "<table border=\"1\" class=\"dataframe\">\n",
       "  <thead>\n",
       "    <tr style=\"text-align: right;\">\n",
       "      <th></th>\n",
       "      <th>f0</th>\n",
       "      <th>f1</th>\n",
       "      <th>f2</th>\n",
       "      <th>product</th>\n",
       "    </tr>\n",
       "  </thead>\n",
       "  <tbody>\n",
       "    <tr>\n",
       "      <th>count</th>\n",
       "      <td>100000.000000</td>\n",
       "      <td>100000.000000</td>\n",
       "      <td>100000.000000</td>\n",
       "      <td>100000.000000</td>\n",
       "    </tr>\n",
       "    <tr>\n",
       "      <th>mean</th>\n",
       "      <td>0.002023</td>\n",
       "      <td>-0.002081</td>\n",
       "      <td>2.495128</td>\n",
       "      <td>95.000000</td>\n",
       "    </tr>\n",
       "    <tr>\n",
       "      <th>std</th>\n",
       "      <td>1.732045</td>\n",
       "      <td>1.730417</td>\n",
       "      <td>3.473445</td>\n",
       "      <td>44.749921</td>\n",
       "    </tr>\n",
       "    <tr>\n",
       "      <th>min</th>\n",
       "      <td>-8.760004</td>\n",
       "      <td>-7.084020</td>\n",
       "      <td>-11.970335</td>\n",
       "      <td>0.000000</td>\n",
       "    </tr>\n",
       "    <tr>\n",
       "      <th>25%</th>\n",
       "      <td>-1.162288</td>\n",
       "      <td>-1.174820</td>\n",
       "      <td>0.130359</td>\n",
       "      <td>59.450441</td>\n",
       "    </tr>\n",
       "    <tr>\n",
       "      <th>50%</th>\n",
       "      <td>0.009424</td>\n",
       "      <td>-0.009482</td>\n",
       "      <td>2.484236</td>\n",
       "      <td>94.925613</td>\n",
       "    </tr>\n",
       "    <tr>\n",
       "      <th>75%</th>\n",
       "      <td>1.158535</td>\n",
       "      <td>1.163678</td>\n",
       "      <td>4.858794</td>\n",
       "      <td>130.595027</td>\n",
       "    </tr>\n",
       "    <tr>\n",
       "      <th>max</th>\n",
       "      <td>7.238262</td>\n",
       "      <td>7.844801</td>\n",
       "      <td>16.739402</td>\n",
       "      <td>190.029838</td>\n",
       "    </tr>\n",
       "  </tbody>\n",
       "</table>\n",
       "</div>"
      ],
      "text/plain": [
       "                  f0             f1             f2        product\n",
       "count  100000.000000  100000.000000  100000.000000  100000.000000\n",
       "mean        0.002023      -0.002081       2.495128      95.000000\n",
       "std         1.732045       1.730417       3.473445      44.749921\n",
       "min        -8.760004      -7.084020     -11.970335       0.000000\n",
       "25%        -1.162288      -1.174820       0.130359      59.450441\n",
       "50%         0.009424      -0.009482       2.484236      94.925613\n",
       "75%         1.158535       1.163678       4.858794     130.595027\n",
       "max         7.238262       7.844801      16.739402     190.029838"
      ]
     },
     "execution_count": 9,
     "metadata": {},
     "output_type": "execute_result"
    }
   ],
   "source": [
    "data_2.describe()"
   ]
  },
  {
   "cell_type": "code",
   "execution_count": 10,
   "metadata": {
    "scrolled": false
   },
   "outputs": [
    {
     "data": {
      "text/html": [
       "<div>\n",
       "<style scoped>\n",
       "    .dataframe tbody tr th:only-of-type {\n",
       "        vertical-align: middle;\n",
       "    }\n",
       "\n",
       "    .dataframe tbody tr th {\n",
       "        vertical-align: top;\n",
       "    }\n",
       "\n",
       "    .dataframe thead th {\n",
       "        text-align: right;\n",
       "    }\n",
       "</style>\n",
       "<table border=\"1\" class=\"dataframe\">\n",
       "  <thead>\n",
       "    <tr style=\"text-align: right;\">\n",
       "      <th></th>\n",
       "      <th>f0</th>\n",
       "      <th>f1</th>\n",
       "      <th>f2</th>\n",
       "      <th>product</th>\n",
       "    </tr>\n",
       "  </thead>\n",
       "  <tbody>\n",
       "    <tr>\n",
       "      <th>f0</th>\n",
       "      <td>1.000000</td>\n",
       "      <td>0.000528</td>\n",
       "      <td>-0.000448</td>\n",
       "      <td>-0.001987</td>\n",
       "    </tr>\n",
       "    <tr>\n",
       "      <th>f1</th>\n",
       "      <td>0.000528</td>\n",
       "      <td>1.000000</td>\n",
       "      <td>0.000779</td>\n",
       "      <td>-0.001012</td>\n",
       "    </tr>\n",
       "    <tr>\n",
       "      <th>f2</th>\n",
       "      <td>-0.000448</td>\n",
       "      <td>0.000779</td>\n",
       "      <td>1.000000</td>\n",
       "      <td>0.445871</td>\n",
       "    </tr>\n",
       "    <tr>\n",
       "      <th>product</th>\n",
       "      <td>-0.001987</td>\n",
       "      <td>-0.001012</td>\n",
       "      <td>0.445871</td>\n",
       "      <td>1.000000</td>\n",
       "    </tr>\n",
       "  </tbody>\n",
       "</table>\n",
       "</div>"
      ],
      "text/plain": [
       "               f0        f1        f2   product\n",
       "f0       1.000000  0.000528 -0.000448 -0.001987\n",
       "f1       0.000528  1.000000  0.000779 -0.001012\n",
       "f2      -0.000448  0.000779  1.000000  0.445871\n",
       "product -0.001987 -0.001012  0.445871  1.000000"
      ]
     },
     "execution_count": 10,
     "metadata": {},
     "output_type": "execute_result"
    }
   ],
   "source": [
    "data_2.drop(['id'], axis=1).corr()"
   ]
  },
  {
   "cell_type": "markdown",
   "metadata": {},
   "source": [
    "Как мы видим данные представленные в трёх датасетах соответствующие регионам \"0\", \"1\" и \"2\" имеют корреляцию с параметром f2, особенно в регионе \"1\" где зависимость практически прямопропорциональна (смеем сделать вывод, что ML-модель обучаемая нами в дальнейшем покажет наилучший результат с точки зрения точности и минимальному среднеквадратическому отклонению именно по региону \"1\")."
   ]
  },
  {
   "cell_type": "markdown",
   "metadata": {},
   "source": [
    "## Обучение и проверка модели"
   ]
  },
  {
   "cell_type": "markdown",
   "metadata": {},
   "source": [
    "Разобьём датасеты на обучающую и валидационную части, а также обучим методом линейной регрессии и сравним обученные модели из разных регионов на основании среднеквадратической ошибки предсказания."
   ]
  },
  {
   "cell_type": "code",
   "execution_count": 11,
   "metadata": {},
   "outputs": [],
   "source": [
    "target_0 = data_0['product']\n",
    "features_0 = data_0.drop(['product','id'] , axis=1)\n",
    "features_train_0, features_valid_0, target_train_0, target_valid_0 = train_test_split(\n",
    "    features_0, target_0, test_size=0.25, random_state=12345)"
   ]
  },
  {
   "cell_type": "code",
   "execution_count": 12,
   "metadata": {},
   "outputs": [
    {
     "name": "stdout",
     "output_type": "stream",
     "text": [
      "MAE:  30.919600777151313\n",
      "RMSE: 37.5794217150813\n",
      "Средний заказ предсказанного сырья по региону \"0\": 92.59256778438035\n"
     ]
    }
   ],
   "source": [
    "model_0 = LinearRegression()\n",
    "model_0.fit(features_train_0, target_train_0)\n",
    "predictions_valid_0 = model_0.predict(features_valid_0)\n",
    "mse_0 = mean_squared_error(target_valid_0, predictions_valid_0) \n",
    "\n",
    "print('MAE: ', mean_absolute_error(target_valid_0, predictions_valid_0)) \n",
    "print(\"RMSE: {}\".format(np.sqrt(mse_0)))\n",
    "print('Средний заказ предсказанного сырья по региону \"0\":', predictions_valid_0.mean())"
   ]
  },
  {
   "cell_type": "code",
   "execution_count": 13,
   "metadata": {},
   "outputs": [],
   "source": [
    "target_1 = data_1['product']\n",
    "features_1 = data_1.drop(['product','id'] , axis=1)\n",
    "features_train_1, features_valid_1, target_train_1, target_valid_1 = train_test_split(\n",
    "    features_1, target_1, test_size=0.25, random_state=12345)"
   ]
  },
  {
   "cell_type": "code",
   "execution_count": 14,
   "metadata": {},
   "outputs": [
    {
     "name": "stdout",
     "output_type": "stream",
     "text": [
      "MAE:  0.7187662442124758\n",
      "RMSE: 0.893099286775617\n",
      "Средний заказ предсказанного сырья по региону \"1\": 68.728546895446\n"
     ]
    }
   ],
   "source": [
    "model_1 = LinearRegression()\n",
    "model_1.fit(features_train_1, target_train_1)\n",
    "predictions_valid_1 = model_1.predict(features_valid_1)\n",
    "mse_1 = mean_squared_error(target_valid_1, predictions_valid_1) \n",
    "print('MAE: ', mean_absolute_error(target_valid_1, predictions_valid_1)) \n",
    "print(\"RMSE: {}\".format(np.sqrt(mse_1)))\n",
    "print('Средний заказ предсказанного сырья по региону \"1\":', predictions_valid_1.mean())"
   ]
  },
  {
   "cell_type": "code",
   "execution_count": 15,
   "metadata": {},
   "outputs": [],
   "source": [
    "target_2 = data_2['product']\n",
    "features_2 = data_2.drop(['product','id'] , axis=1)\n",
    "features_train_2, features_valid_2, target_train_2, target_valid_2 = train_test_split(\n",
    "    features_2, target_2, test_size=0.25, random_state=12345)"
   ]
  },
  {
   "cell_type": "code",
   "execution_count": 16,
   "metadata": {},
   "outputs": [
    {
     "name": "stdout",
     "output_type": "stream",
     "text": [
      "MAE:  32.792652105481814\n",
      "RMSE: 40.02970873393434\n",
      "Средний заказ предсказанного сырья по региону \"2\": 94.96504596800489\n"
     ]
    }
   ],
   "source": [
    "model_2 = LinearRegression()\n",
    "model_2.fit(features_train_2, target_train_2)\n",
    "predictions_valid_2 = model_2.predict(features_valid_2)\n",
    "mse_2 = mean_squared_error(target_valid_2, predictions_valid_2) \n",
    "print('MAE: ', mean_absolute_error(target_valid_2, predictions_valid_2)) \n",
    "print('RMSE: {}'.format(np.sqrt(mse_2)))\n",
    "print('Средний заказ предсказанного сырья по региону \"2\":', predictions_valid_2.mean())"
   ]
  },
  {
   "cell_type": "markdown",
   "metadata": {},
   "source": [
    "Как мы и предполагали наименьшая среднеквадратическая ошибка показана на линейной модели в регионе №1 ввиду прямопропорциональной зависимости данных."
   ]
  },
  {
   "cell_type": "markdown",
   "metadata": {},
   "source": [
    "## Подготовка к расчёту прибыли"
   ]
  },
  {
   "cell_type": "markdown",
   "metadata": {},
   "source": [
    "Рассмотрим основные условия в постановке задачи:"
   ]
  },
  {
   "cell_type": "code",
   "execution_count": 17,
   "metadata": {},
   "outputs": [],
   "source": [
    "#условия задачи:\n",
    "#При разведке региона исследуют 500 точек, из которых с помощью машинного обучения выбирают 200 лучших для разработки.\n",
    "#После оценки рисков нужно оставить лишь те регионы, в которых вероятность убытков меньше 2.5%. \n",
    "#Среди них выбирают регион с наибольшей средней прибылью.\n",
    "\n",
    "CATCH_POINTS = 500\n",
    "BUDGET = 10000000000 #бюджет разработки скважин в регионе\n",
    "PRICE = 450000 #цена рублей за тысячу баррелей нефти "
   ]
  },
  {
   "cell_type": "markdown",
   "metadata": {},
   "source": [
    "Рассчитаем точку безубыточности объёма средних залежей нефти по лучшим 200 скважинам предсказанным моделью на месторождении для покрытия затрат на разведывательные работы. "
   ]
  },
  {
   "cell_type": "code",
   "execution_count": 18,
   "metadata": {
    "scrolled": true
   },
   "outputs": [
    {
     "name": "stdout",
     "output_type": "stream",
     "text": [
      "111.11111111111111 тыс.баррелей нефти\n"
     ]
    }
   ],
   "source": [
    "breakeven = BUDGET/PRICE/200\n",
    "print(breakeven, 'тыс.баррелей нефти')"
   ]
  },
  {
   "cell_type": "markdown",
   "metadata": {},
   "source": [
    "Соответственно, необходимо определить регион где топ-200 скважин имеют средние запасы нефти в каждой точке более 111 тысяч барелей."
   ]
  },
  {
   "cell_type": "markdown",
   "metadata": {},
   "source": [
    "Сформируем топ-200 скважин по всем трём регионам для оценки средних максимальных запасов которые есть по факту и предсказанные:"
   ]
  },
  {
   "cell_type": "code",
   "execution_count": 19,
   "metadata": {},
   "outputs": [
    {
     "name": "stdout",
     "output_type": "stream",
     "text": [
      "Средние топ-200 объёмы скважин региона №0 (истинные): 184.83373964536008\n",
      "Средние топ-200 объёмы скважин региона №0 (предсказанные): 163.2177352995591\n"
     ]
    }
   ],
   "source": [
    "predictions_0 = model_0.predict(features_0)\n",
    "target_0_top = target_0.sort_values(ascending=False).reset_index(drop=True).loc[:199]\n",
    "predictions_0_top = pd.Series(predictions_0).sort_values(ascending=False).reset_index(drop=True).loc[:199]\n",
    "print('Средние топ-200 объёмы скважин региона №0 (истинные):',target_0_top.mean())\n",
    "print('Средние топ-200 объёмы скважин региона №0 (предсказанные):',predictions_0_top.mean())"
   ]
  },
  {
   "cell_type": "code",
   "execution_count": 20,
   "metadata": {},
   "outputs": [
    {
     "name": "stdout",
     "output_type": "stream",
     "text": [
      "Средние топ-200 объёмы скважин региона №1 (истинные): 137.9454077409057\n",
      "Средние топ-200 объёмы скважин региона №1 (предсказанные): 139.16229068572267\n"
     ]
    }
   ],
   "source": [
    "predictions_1 = model_1.predict(features_1)\n",
    "target_1_top = target_1.sort_values(ascending=False).reset_index(drop=True).loc[:199]\n",
    "predictions_1_top = pd.Series(predictions_1).sort_values(ascending=False).reset_index(drop=True).loc[:199]\n",
    "print('Средние топ-200 объёмы скважин региона №1 (истинные):',target_1_top.mean())\n",
    "print('Средние топ-200 объёмы скважин региона №1 (предсказанные):',predictions_1_top.mean())"
   ]
  },
  {
   "cell_type": "code",
   "execution_count": 21,
   "metadata": {},
   "outputs": [
    {
     "name": "stdout",
     "output_type": "stream",
     "text": [
      "Средние топ-200 объёмы скважин региона №2 (истинные): 189.55147698176646\n",
      "Средние топ-200 объёмы скважин региона №2 (предсказанные): 202.9868109503039\n"
     ]
    }
   ],
   "source": [
    "predictions_2 = model_0.predict(features_2)\n",
    "target_2_top = target_2.sort_values(ascending=False).reset_index(drop=True).loc[:199]\n",
    "predictions_2_top = pd.Series(predictions_2).sort_values(ascending=False).reset_index(drop=True).loc[:199]\n",
    "print('Средние топ-200 объёмы скважин региона №2 (истинные):',target_2_top.mean())\n",
    "print('Средние топ-200 объёмы скважин региона №2 (предсказанные):',predictions_2_top.mean())"
   ]
  },
  {
   "cell_type": "markdown",
   "metadata": {},
   "source": [
    "## Расчёт прибыли и рисков "
   ]
  },
  {
   "cell_type": "markdown",
   "metadata": {},
   "source": [
    "Напишем функцию, которая расчитает выручку по заданному количеству месторождений на основании прогнозных и истинных данных:"
   ]
  },
  {
   "cell_type": "code",
   "execution_count": 22,
   "metadata": {},
   "outputs": [],
   "source": [
    "def profit(target, predictions, count):\n",
    "    probs_sorted = pd.Series(predictions).sort_values(ascending=False)\n",
    "    result = target[probs_sorted.index][:count].sum()\n",
    "    return 450000 * result - BUDGET"
   ]
  },
  {
   "cell_type": "markdown",
   "metadata": {},
   "source": [
    "Рассчитаем для понимания порядков значений выручку по топ 200 точек каждого региона: "
   ]
  },
  {
   "cell_type": "code",
   "execution_count": 23,
   "metadata": {},
   "outputs": [
    {
     "name": "stdout",
     "output_type": "stream",
     "text": [
      "Выручка по региону №0 составит: 3.494104192112015 млрд.руб.\n"
     ]
    }
   ],
   "source": [
    "print('Выручка по региону №0 составит:',profit(target_0,predictions_0,200)/1000000000, 'млрд.руб.')"
   ]
  },
  {
   "cell_type": "code",
   "execution_count": 24,
   "metadata": {
    "scrolled": true
   },
   "outputs": [
    {
     "name": "stdout",
     "output_type": "stream",
     "text": [
      "Выручка по региону №1 составит: 2.4150866966815108 млрд.руб.\n"
     ]
    }
   ],
   "source": [
    "print('Выручка по региону №1 составит:',profit(target_1,predictions_1,200)/1000000000,'млрд.руб.')"
   ]
  },
  {
   "cell_type": "code",
   "execution_count": 25,
   "metadata": {
    "scrolled": true
   },
   "outputs": [
    {
     "name": "stdout",
     "output_type": "stream",
     "text": [
      "Выручка по региону №2 составит: 3.2460290047726974 млрд.руб.\n"
     ]
    }
   ],
   "source": [
    "print('Выручка по региону №2 составит:',profit(target_2,predictions_2,200)/1000000000,'млрд.руб.')"
   ]
  },
  {
   "cell_type": "markdown",
   "metadata": {},
   "source": [
    "Оченим техников Bootstrap распределение на 1000 выборок для каждого региона для выбора наиболее прогнозируемого и менее рискованного объекта инвестиций:"
   ]
  },
  {
   "cell_type": "code",
   "execution_count": 30,
   "metadata": {},
   "outputs": [],
   "source": [
    "state = np.random.RandomState(12345)\n",
    "target_valid_0 = target_valid_0.reset_index(drop=True)\n",
    "predictions_valid_0 = pd.Series(predictions_valid_0)\n",
    "target_valid_1 = target_valid_1.reset_index(drop=True)\n",
    "predictions_valid_1 = pd.Series(predictions_valid_1)\n",
    "target_valid_2 = target_valid_2.reset_index(drop=True)\n",
    "predictions_valid_2 = pd.Series(predictions_valid_2)"
   ]
  },
  {
   "cell_type": "code",
   "execution_count": 31,
   "metadata": {},
   "outputs": [
    {
     "name": "stdout",
     "output_type": "stream",
     "text": [
      "Средняя прибыль/убыток: 0.4259385269105924 млрд.руб.\n",
      "2,5%-квантиль: -0.10209009483793653 млрд.руб.\n",
      "97,5%-квантиль: 0.9479763533583688 млрд.руб.\n",
      "Диапазон изменения прибыли составил: 1.0500664481963053 млрд.руб.\n",
      "Риск получения убытка составляет: 6.0 %\n"
     ]
    }
   ],
   "source": [
    "\n",
    "values_0 = []\n",
    "\n",
    "for i in range(1000):\n",
    "    \n",
    "    target_subsample_0 = target_valid_0.sample(n=500, replace=True, random_state=state)\n",
    "    pred_subsample_0 = predictions_valid_0[target_subsample_0.index]\n",
    "    res_0 = profit(target_subsample_0,pred_subsample_0,200)  \n",
    "    values_0.append(res_0)\n",
    "\n",
    "values_0 = pd.Series(values_0)\n",
    "upper_0 = values_0.quantile(0.975)\n",
    "lower_0 = values_0.quantile(q=0.025)\n",
    "mean_0 = values_0.mean()\n",
    "print(\"Средняя прибыль/убыток:\", mean_0/1000000000,'млрд.руб.')\n",
    "print(\"2,5%-квантиль:\", lower_0/1000000000,'млрд.руб.')\n",
    "print(\"97,5%-квантиль:\", upper_0/1000000000,'млрд.руб.')\n",
    "print(\"Диапазон изменения прибыли составил:\", (upper_0-lower_0)/1000000000,'млрд.руб.')\n",
    "\n",
    "\n",
    "schet_0=0\n",
    "for i in range(len(values_0)):\n",
    "    if values_0[i]<0:\n",
    "        schet_0+=1\n",
    "print('Риск получения убытка составляет:',schet_0/1000*100, '%')"
   ]
  },
  {
   "cell_type": "code",
   "execution_count": 33,
   "metadata": {},
   "outputs": [
    {
     "name": "stdout",
     "output_type": "stream",
     "text": [
      "Средняя прибыль/убыток: 0.5068142889989468 млрд.руб.\n",
      "2,5%-квантиль: 0.11023611441505556 млрд.руб.\n",
      "97,5%-квантиль: 0.940089183344335 млрд.руб.\n",
      "Диапазон изменения прибыли составил: 0.8298530689292795 млрд.руб.\n",
      "Риск получения убытка составляет: 0.8 %\n"
     ]
    }
   ],
   "source": [
    "values_1 = []\n",
    "\n",
    "for i in range(1000):\n",
    "    target_subsample_1 = target_valid_1.sample(n=500, replace=True, random_state=state)\n",
    "    pred_subsample_1 = predictions_valid_1[target_subsample_1.index] \n",
    "    res_1 = profit(target_subsample_1,pred_subsample_1,200)  \n",
    "    values_1.append(res_1)\n",
    "\n",
    "values_1 = pd.Series(values_1)\n",
    "upper_1 = values_1.quantile(0.975)\n",
    "lower_1 = values_1.quantile(q=0.025)\n",
    "mean_1 = values_1.mean()\n",
    "print(\"Средняя прибыль/убыток:\", mean_1/1000000000,'млрд.руб.')\n",
    "print(\"2,5%-квантиль:\", lower_1/1000000000,'млрд.руб.')\n",
    "print(\"97,5%-квантиль:\", upper_1/1000000000,'млрд.руб.')\n",
    "print(\"Диапазон изменения прибыли составил:\", (upper_1-lower_1)/1000000000,'млрд.руб.')\n",
    "\n",
    "schet_1 = 0\n",
    "for i in range(len(values_0)):\n",
    "    if values_1[i] < 0:\n",
    "        schet_1 += 1\n",
    "print('Риск получения убытка составляет:',schet_1/1000*100, '%')"
   ]
  },
  {
   "cell_type": "code",
   "execution_count": 34,
   "metadata": {
    "scrolled": false
   },
   "outputs": [
    {
     "name": "stdout",
     "output_type": "stream",
     "text": [
      "Средняя прибыль/убыток: 0.42421248809915973 млрд.руб.\n",
      "2,5%-квантиль: -0.0949202684330111 млрд.руб.\n",
      "97,5%-квантиль: 0.9328900216850643 млрд.руб.\n",
      "Диапазон изменения прибыли составил: 1.0278102901180755 млрд.руб.\n",
      "Риск получения убытка составляет: 4.9 %\n"
     ]
    }
   ],
   "source": [
    "values_2 = []\n",
    "\n",
    "for i in range(1000):\n",
    "    target_subsample_2 = target_valid_2.sample(n=500, replace=True, random_state=state)\n",
    "    pred_subsample_2= predictions_valid_2[target_subsample_2.index] \n",
    "    res_2 = profit(target_subsample_2,pred_subsample_2,200)  \n",
    "    values_2.append(res_2)\n",
    "\n",
    "values_2 = pd.Series(values_2)\n",
    "\n",
    "\n",
    "upper_2 = values_2.quantile(0.975)\n",
    "lower_2 = values_2.quantile(q=0.025)\n",
    "mean_2 = values_2.mean()\n",
    "print(\"Средняя прибыль/убыток:\", mean_2/1000000000,'млрд.руб.')\n",
    "print(\"2,5%-квантиль:\", lower_2/1000000000,'млрд.руб.')\n",
    "print(\"97,5%-квантиль:\", upper_2/1000000000,'млрд.руб.')\n",
    "print(\"Диапазон изменения прибыли составил:\", (upper_2-lower_2)/1000000000,'млрд.руб.')\n",
    "\n",
    "schet_2 = 0\n",
    "for i in range(len(values_0)):\n",
    "    if values_2[i] < 0:\n",
    "        schet_2 += 1\n",
    "print('Риск получения убытка составляет:',schet_2/1000*100, '%')"
   ]
  },
  {
   "cell_type": "markdown",
   "metadata": {},
   "source": [
    "## Основные выводы по проекту\n",
    "\n",
    "Как мы видим, после применения технологии Bootstrap был получен результат: регион №1 оказался регионом с наибольшей средней прибылью и с наименьшими рисками (риск получения убытка составил лишь 0,8%, а в сфере бизнеса такой риск можно считать приемлимым). Помимо всего прочего с самого начала проекта мы отмечали, что объём залежей региона №1 наиболее предсказуем ввиду практически прямопропорциональной корреляции одного из показателей.\n",
    "\n",
    "В ходе проекта мы отпработали технологию для оценки прибыльности месторождения и данную технологию можно тиражировать на разные  регионы для проведения геологоразведывательных работ."
   ]
  }
 ],
 "metadata": {
  "ExecuteTimeLog": [
   {
    "duration": 1601,
    "start_time": "2022-06-17T13:38:09.598Z"
   },
   {
    "duration": 444,
    "start_time": "2022-06-17T13:39:02.879Z"
   },
   {
    "duration": 226,
    "start_time": "2022-06-17T13:39:03.370Z"
   },
   {
    "duration": 268,
    "start_time": "2022-06-17T13:39:04.211Z"
   },
   {
    "duration": 1131,
    "start_time": "2022-06-20T10:01:37.524Z"
   },
   {
    "duration": 0,
    "start_time": "2022-06-20T10:01:38.657Z"
   },
   {
    "duration": 0,
    "start_time": "2022-06-20T10:01:38.660Z"
   },
   {
    "duration": 0,
    "start_time": "2022-06-20T10:01:38.661Z"
   },
   {
    "duration": 3,
    "start_time": "2022-06-20T10:01:46.930Z"
   },
   {
    "duration": 482,
    "start_time": "2022-06-20T10:01:47.585Z"
   },
   {
    "duration": 566,
    "start_time": "2022-06-20T10:01:48.070Z"
   },
   {
    "duration": 515,
    "start_time": "2022-06-20T10:01:48.638Z"
   },
   {
    "duration": 19,
    "start_time": "2022-06-20T10:02:27.925Z"
   },
   {
    "duration": 24,
    "start_time": "2022-06-20T10:02:32.650Z"
   },
   {
    "duration": 22,
    "start_time": "2022-06-20T10:02:43.106Z"
   },
   {
    "duration": 23,
    "start_time": "2022-06-20T10:10:27.194Z"
   },
   {
    "duration": 11,
    "start_time": "2022-06-20T10:10:46.484Z"
   },
   {
    "duration": 19,
    "start_time": "2022-06-20T10:10:53.162Z"
   },
   {
    "duration": 1069,
    "start_time": "2022-06-20T10:10:57.629Z"
   },
   {
    "duration": 143,
    "start_time": "2022-06-20T10:10:58.700Z"
   },
   {
    "duration": 24,
    "start_time": "2022-06-20T10:10:58.845Z"
   },
   {
    "duration": 120,
    "start_time": "2022-06-20T10:10:58.871Z"
   },
   {
    "duration": 123,
    "start_time": "2022-06-20T10:10:58.993Z"
   },
   {
    "duration": 19,
    "start_time": "2022-06-20T10:10:59.118Z"
   },
   {
    "duration": 131,
    "start_time": "2022-06-20T10:10:59.139Z"
   },
   {
    "duration": 15,
    "start_time": "2022-06-20T10:11:34.884Z"
   },
   {
    "duration": 18,
    "start_time": "2022-06-20T10:11:41.149Z"
   },
   {
    "duration": 1068,
    "start_time": "2022-06-20T10:11:48.280Z"
   },
   {
    "duration": 142,
    "start_time": "2022-06-20T10:11:49.349Z"
   },
   {
    "duration": 23,
    "start_time": "2022-06-20T10:11:49.493Z"
   },
   {
    "duration": 125,
    "start_time": "2022-06-20T10:11:49.518Z"
   },
   {
    "duration": 124,
    "start_time": "2022-06-20T10:11:49.644Z"
   },
   {
    "duration": 103,
    "start_time": "2022-06-20T10:11:49.770Z"
   },
   {
    "duration": 1,
    "start_time": "2022-06-20T10:11:49.874Z"
   },
   {
    "duration": 37,
    "start_time": "2022-06-20T10:17:32.224Z"
   },
   {
    "duration": 14,
    "start_time": "2022-06-20T10:18:03.751Z"
   },
   {
    "duration": 21,
    "start_time": "2022-06-20T10:18:04.638Z"
   },
   {
    "duration": 14,
    "start_time": "2022-06-20T10:19:30.039Z"
   },
   {
    "duration": 17,
    "start_time": "2022-06-20T10:19:31.120Z"
   },
   {
    "duration": 14,
    "start_time": "2022-06-20T10:19:32.630Z"
   },
   {
    "duration": 13,
    "start_time": "2022-06-20T10:20:23.789Z"
   },
   {
    "duration": 12,
    "start_time": "2022-06-20T10:20:24.312Z"
   },
   {
    "duration": 12,
    "start_time": "2022-06-20T10:20:29.678Z"
   },
   {
    "duration": 20,
    "start_time": "2022-06-20T10:20:32.055Z"
   },
   {
    "duration": 12,
    "start_time": "2022-06-20T10:20:47.933Z"
   },
   {
    "duration": 12,
    "start_time": "2022-06-20T10:20:48.464Z"
   },
   {
    "duration": 33,
    "start_time": "2022-06-20T10:21:25.733Z"
   },
   {
    "duration": 17,
    "start_time": "2022-06-20T10:22:57.569Z"
   },
   {
    "duration": 18,
    "start_time": "2022-06-20T10:23:20.711Z"
   },
   {
    "duration": 20,
    "start_time": "2022-06-20T10:24:03.439Z"
   },
   {
    "duration": 1126,
    "start_time": "2022-06-20T10:26:49.652Z"
   },
   {
    "duration": 151,
    "start_time": "2022-06-20T10:26:50.780Z"
   },
   {
    "duration": 51,
    "start_time": "2022-06-20T10:26:50.933Z"
   },
   {
    "duration": 18,
    "start_time": "2022-06-20T10:26:50.986Z"
   },
   {
    "duration": 168,
    "start_time": "2022-06-20T10:26:51.006Z"
   },
   {
    "duration": 35,
    "start_time": "2022-06-20T10:26:51.176Z"
   },
   {
    "duration": 19,
    "start_time": "2022-06-20T10:26:51.213Z"
   },
   {
    "duration": 230,
    "start_time": "2022-06-20T10:26:51.234Z"
   },
   {
    "duration": 0,
    "start_time": "2022-06-20T10:26:51.466Z"
   },
   {
    "duration": 0,
    "start_time": "2022-06-20T10:26:51.467Z"
   },
   {
    "duration": 0,
    "start_time": "2022-06-20T10:26:51.468Z"
   },
   {
    "duration": 0,
    "start_time": "2022-06-20T10:26:51.469Z"
   },
   {
    "duration": 0,
    "start_time": "2022-06-20T10:26:51.470Z"
   },
   {
    "duration": 0,
    "start_time": "2022-06-20T10:26:51.471Z"
   },
   {
    "duration": 0,
    "start_time": "2022-06-20T10:26:51.472Z"
   },
   {
    "duration": 0,
    "start_time": "2022-06-20T10:26:51.473Z"
   },
   {
    "duration": 1155,
    "start_time": "2022-06-22T07:45:36.809Z"
   },
   {
    "duration": 631,
    "start_time": "2022-06-22T07:45:37.966Z"
   },
   {
    "duration": 42,
    "start_time": "2022-06-22T07:45:38.600Z"
   },
   {
    "duration": 18,
    "start_time": "2022-06-22T07:45:38.644Z"
   },
   {
    "duration": 225,
    "start_time": "2022-06-22T07:45:38.664Z"
   },
   {
    "duration": 34,
    "start_time": "2022-06-22T07:45:38.891Z"
   },
   {
    "duration": 23,
    "start_time": "2022-06-22T07:45:38.926Z"
   },
   {
    "duration": 316,
    "start_time": "2022-06-22T07:45:38.950Z"
   },
   {
    "duration": 0,
    "start_time": "2022-06-22T07:45:39.267Z"
   },
   {
    "duration": 0,
    "start_time": "2022-06-22T07:45:39.268Z"
   },
   {
    "duration": 0,
    "start_time": "2022-06-22T07:45:39.269Z"
   },
   {
    "duration": 0,
    "start_time": "2022-06-22T07:45:39.271Z"
   },
   {
    "duration": 0,
    "start_time": "2022-06-22T07:45:39.273Z"
   },
   {
    "duration": 0,
    "start_time": "2022-06-22T07:45:39.274Z"
   },
   {
    "duration": 0,
    "start_time": "2022-06-22T07:45:39.276Z"
   },
   {
    "duration": 0,
    "start_time": "2022-06-22T07:45:39.277Z"
   },
   {
    "duration": 164,
    "start_time": "2022-06-22T07:45:50.673Z"
   },
   {
    "duration": 42,
    "start_time": "2022-06-22T07:45:52.048Z"
   },
   {
    "duration": 16,
    "start_time": "2022-06-22T07:45:54.991Z"
   },
   {
    "duration": 16,
    "start_time": "2022-06-22T07:49:18.626Z"
   },
   {
    "duration": 46,
    "start_time": "2022-06-22T07:49:18.984Z"
   },
   {
    "duration": 10,
    "start_time": "2022-06-22T07:49:19.265Z"
   },
   {
    "duration": 3,
    "start_time": "2022-06-22T07:49:45.090Z"
   },
   {
    "duration": 12,
    "start_time": "2022-06-22T07:49:54.657Z"
   },
   {
    "duration": 13,
    "start_time": "2022-06-22T07:50:18.805Z"
   },
   {
    "duration": 12,
    "start_time": "2022-06-22T07:50:32.689Z"
   },
   {
    "duration": 3,
    "start_time": "2022-06-22T07:50:52.346Z"
   },
   {
    "duration": 13,
    "start_time": "2022-06-22T07:50:58.884Z"
   },
   {
    "duration": 6,
    "start_time": "2022-06-22T07:51:06.281Z"
   },
   {
    "duration": 15,
    "start_time": "2022-06-22T07:52:31.818Z"
   },
   {
    "duration": 5,
    "start_time": "2022-06-22T07:52:32.461Z"
   },
   {
    "duration": 5,
    "start_time": "2022-06-22T07:52:39.705Z"
   },
   {
    "duration": 8,
    "start_time": "2022-06-22T07:52:47.940Z"
   },
   {
    "duration": 5,
    "start_time": "2022-06-22T07:53:09.493Z"
   },
   {
    "duration": 18,
    "start_time": "2022-06-22T07:53:11.723Z"
   },
   {
    "duration": 17,
    "start_time": "2022-06-22T07:53:23.847Z"
   },
   {
    "duration": 5,
    "start_time": "2022-06-22T07:53:38.284Z"
   },
   {
    "duration": 17,
    "start_time": "2022-06-22T07:54:41.812Z"
   },
   {
    "duration": 19,
    "start_time": "2022-06-22T07:54:42.364Z"
   },
   {
    "duration": 5,
    "start_time": "2022-06-22T07:54:43.219Z"
   },
   {
    "duration": 1083,
    "start_time": "2022-06-22T07:55:48.308Z"
   },
   {
    "duration": 150,
    "start_time": "2022-06-22T07:55:49.393Z"
   },
   {
    "duration": 37,
    "start_time": "2022-06-22T07:55:49.545Z"
   },
   {
    "duration": 16,
    "start_time": "2022-06-22T07:55:49.583Z"
   },
   {
    "duration": 143,
    "start_time": "2022-06-22T07:55:49.601Z"
   },
   {
    "duration": 37,
    "start_time": "2022-06-22T07:55:49.745Z"
   },
   {
    "duration": 20,
    "start_time": "2022-06-22T07:55:49.784Z"
   },
   {
    "duration": 142,
    "start_time": "2022-06-22T07:55:49.806Z"
   },
   {
    "duration": 35,
    "start_time": "2022-06-22T07:55:49.950Z"
   },
   {
    "duration": 17,
    "start_time": "2022-06-22T07:55:49.986Z"
   },
   {
    "duration": 35,
    "start_time": "2022-06-22T07:55:50.005Z"
   },
   {
    "duration": 87,
    "start_time": "2022-06-22T07:55:50.042Z"
   },
   {
    "duration": 187,
    "start_time": "2022-06-22T07:55:50.131Z"
   },
   {
    "duration": 0,
    "start_time": "2022-06-22T07:55:50.319Z"
   },
   {
    "duration": 0,
    "start_time": "2022-06-22T07:55:50.327Z"
   },
   {
    "duration": 0,
    "start_time": "2022-06-22T07:55:50.329Z"
   },
   {
    "duration": 0,
    "start_time": "2022-06-22T07:55:50.330Z"
   },
   {
    "duration": 0,
    "start_time": "2022-06-22T07:55:50.331Z"
   },
   {
    "duration": 0,
    "start_time": "2022-06-22T07:55:50.332Z"
   },
   {
    "duration": 5,
    "start_time": "2022-06-22T07:56:02.722Z"
   },
   {
    "duration": 16,
    "start_time": "2022-06-22T07:56:05.217Z"
   },
   {
    "duration": 24,
    "start_time": "2022-06-22T07:56:06.211Z"
   },
   {
    "duration": 9,
    "start_time": "2022-06-22T07:56:08.257Z"
   },
   {
    "duration": 4,
    "start_time": "2022-06-22T07:56:11.803Z"
   },
   {
    "duration": 14,
    "start_time": "2022-06-22T07:56:21.652Z"
   },
   {
    "duration": 22,
    "start_time": "2022-06-22T07:56:22.106Z"
   },
   {
    "duration": 7,
    "start_time": "2022-06-22T07:56:27.277Z"
   },
   {
    "duration": 3,
    "start_time": "2022-06-22T08:18:21.002Z"
   },
   {
    "duration": 1098,
    "start_time": "2022-06-22T11:19:00.036Z"
   },
   {
    "duration": 3,
    "start_time": "2022-06-22T11:19:01.136Z"
   },
   {
    "duration": 163,
    "start_time": "2022-06-22T11:19:01.140Z"
   },
   {
    "duration": 41,
    "start_time": "2022-06-22T11:19:01.305Z"
   },
   {
    "duration": 17,
    "start_time": "2022-06-22T11:19:01.347Z"
   },
   {
    "duration": 135,
    "start_time": "2022-06-22T11:19:01.365Z"
   },
   {
    "duration": 50,
    "start_time": "2022-06-22T11:19:01.502Z"
   },
   {
    "duration": 22,
    "start_time": "2022-06-22T11:19:01.553Z"
   },
   {
    "duration": 190,
    "start_time": "2022-06-22T11:19:01.577Z"
   },
   {
    "duration": 37,
    "start_time": "2022-06-22T11:19:01.770Z"
   },
   {
    "duration": 32,
    "start_time": "2022-06-22T11:19:01.809Z"
   },
   {
    "duration": 27,
    "start_time": "2022-06-22T11:19:01.843Z"
   },
   {
    "duration": 132,
    "start_time": "2022-06-22T11:19:01.872Z"
   },
   {
    "duration": 0,
    "start_time": "2022-06-22T11:19:02.006Z"
   },
   {
    "duration": 0,
    "start_time": "2022-06-22T11:19:02.007Z"
   },
   {
    "duration": 0,
    "start_time": "2022-06-22T11:19:02.008Z"
   },
   {
    "duration": 0,
    "start_time": "2022-06-22T11:19:02.010Z"
   },
   {
    "duration": 0,
    "start_time": "2022-06-22T11:19:02.011Z"
   },
   {
    "duration": 0,
    "start_time": "2022-06-22T11:19:02.012Z"
   },
   {
    "duration": 0,
    "start_time": "2022-06-22T11:19:02.027Z"
   },
   {
    "duration": 22,
    "start_time": "2022-06-22T11:19:34.022Z"
   },
   {
    "duration": 13,
    "start_time": "2022-06-22T11:19:35.202Z"
   },
   {
    "duration": 5,
    "start_time": "2022-06-22T11:19:42.766Z"
   },
   {
    "duration": 14,
    "start_time": "2022-06-22T11:19:44.439Z"
   },
   {
    "duration": 53,
    "start_time": "2022-06-22T11:19:45.078Z"
   },
   {
    "duration": 5,
    "start_time": "2022-06-22T11:19:45.762Z"
   },
   {
    "duration": 16,
    "start_time": "2022-06-22T11:19:46.448Z"
   },
   {
    "duration": 22,
    "start_time": "2022-06-22T11:19:47.246Z"
   },
   {
    "duration": 9,
    "start_time": "2022-06-22T11:19:48.029Z"
   },
   {
    "duration": 5,
    "start_time": "2022-06-22T11:19:53.382Z"
   },
   {
    "duration": 4,
    "start_time": "2022-06-22T11:26:36.315Z"
   },
   {
    "duration": 2,
    "start_time": "2022-06-22T11:29:36.574Z"
   },
   {
    "duration": 3,
    "start_time": "2022-06-22T11:29:39.903Z"
   },
   {
    "duration": 4,
    "start_time": "2022-06-22T11:30:03.407Z"
   },
   {
    "duration": 4,
    "start_time": "2022-06-22T11:30:22.992Z"
   },
   {
    "duration": 4,
    "start_time": "2022-06-22T11:32:07.565Z"
   },
   {
    "duration": 6,
    "start_time": "2022-06-22T11:37:05.561Z"
   },
   {
    "duration": 126,
    "start_time": "2022-06-22T11:38:11.701Z"
   },
   {
    "duration": 129,
    "start_time": "2022-06-22T11:38:16.704Z"
   },
   {
    "duration": 92,
    "start_time": "2022-06-22T11:38:52.647Z"
   },
   {
    "duration": 164,
    "start_time": "2022-06-22T11:42:37.866Z"
   },
   {
    "duration": 117,
    "start_time": "2022-06-22T11:43:15.120Z"
   },
   {
    "duration": 14,
    "start_time": "2022-06-22T11:43:29.868Z"
   },
   {
    "duration": 59,
    "start_time": "2022-06-22T11:44:46.977Z"
   },
   {
    "duration": 163,
    "start_time": "2022-06-22T11:45:19.765Z"
   },
   {
    "duration": 72,
    "start_time": "2022-06-22T11:45:29.272Z"
   },
   {
    "duration": 103,
    "start_time": "2022-06-22T11:45:37.529Z"
   },
   {
    "duration": 27,
    "start_time": "2022-06-22T11:45:42.511Z"
   },
   {
    "duration": 44,
    "start_time": "2022-06-22T11:45:55.689Z"
   },
   {
    "duration": 75,
    "start_time": "2022-06-22T11:46:05.762Z"
   },
   {
    "duration": 52,
    "start_time": "2022-06-22T11:47:10.983Z"
   },
   {
    "duration": 43,
    "start_time": "2022-06-22T11:47:16.193Z"
   },
   {
    "duration": 159,
    "start_time": "2022-06-22T11:47:33.971Z"
   },
   {
    "duration": 193,
    "start_time": "2022-06-22T11:47:52.743Z"
   },
   {
    "duration": 53,
    "start_time": "2022-06-22T11:48:03.888Z"
   },
   {
    "duration": 158,
    "start_time": "2022-06-22T11:48:40.080Z"
   },
   {
    "duration": 37,
    "start_time": "2022-06-22T11:48:57.600Z"
   },
   {
    "duration": 157,
    "start_time": "2022-06-22T11:50:33.375Z"
   },
   {
    "duration": 138,
    "start_time": "2022-06-22T11:50:50.599Z"
   },
   {
    "duration": 118,
    "start_time": "2022-06-22T11:51:15.518Z"
   },
   {
    "duration": 197,
    "start_time": "2022-06-22T11:51:39.441Z"
   },
   {
    "duration": 4,
    "start_time": "2022-06-22T12:00:32.286Z"
   },
   {
    "duration": 4,
    "start_time": "2022-06-22T12:05:15.305Z"
   },
   {
    "duration": 3,
    "start_time": "2022-06-22T12:38:40.697Z"
   },
   {
    "duration": 2,
    "start_time": "2022-06-22T12:39:22.003Z"
   },
   {
    "duration": 4,
    "start_time": "2022-06-22T12:39:23.385Z"
   },
   {
    "duration": 4,
    "start_time": "2022-06-22T12:40:50.475Z"
   },
   {
    "duration": 6,
    "start_time": "2022-06-22T12:41:07.493Z"
   },
   {
    "duration": 6,
    "start_time": "2022-06-22T12:41:07.667Z"
   },
   {
    "duration": 4,
    "start_time": "2022-06-22T12:42:36.588Z"
   },
   {
    "duration": 4,
    "start_time": "2022-06-22T12:42:44.821Z"
   },
   {
    "duration": 5,
    "start_time": "2022-06-22T12:42:47.451Z"
   },
   {
    "duration": 5,
    "start_time": "2022-06-22T12:43:10.388Z"
   },
   {
    "duration": 4,
    "start_time": "2022-06-22T12:43:10.556Z"
   },
   {
    "duration": 4,
    "start_time": "2022-06-22T12:43:10.724Z"
   },
   {
    "duration": 6,
    "start_time": "2022-06-22T12:43:36.140Z"
   },
   {
    "duration": 9,
    "start_time": "2022-06-22T12:50:02.623Z"
   },
   {
    "duration": 10,
    "start_time": "2022-06-22T12:50:26.808Z"
   },
   {
    "duration": 11,
    "start_time": "2022-06-22T12:51:22.847Z"
   },
   {
    "duration": 648,
    "start_time": "2022-06-22T12:51:41.585Z"
   },
   {
    "duration": 741,
    "start_time": "2022-06-22T12:52:09.224Z"
   },
   {
    "duration": 3,
    "start_time": "2022-06-22T12:56:06.718Z"
   },
   {
    "duration": 10,
    "start_time": "2022-06-22T12:56:41.151Z"
   },
   {
    "duration": 3,
    "start_time": "2022-06-22T12:57:08.818Z"
   },
   {
    "duration": 23,
    "start_time": "2022-06-22T12:57:09.858Z"
   },
   {
    "duration": 21,
    "start_time": "2022-06-22T12:57:28.170Z"
   },
   {
    "duration": 13,
    "start_time": "2022-06-22T12:57:31.728Z"
   },
   {
    "duration": 853,
    "start_time": "2022-06-22T12:57:40.282Z"
   },
   {
    "duration": 819,
    "start_time": "2022-06-22T12:59:57.590Z"
   },
   {
    "duration": 85,
    "start_time": "2022-06-22T13:00:10.153Z"
   },
   {
    "duration": 852,
    "start_time": "2022-06-22T13:00:15.235Z"
   },
   {
    "duration": 8,
    "start_time": "2022-06-22T13:00:58.035Z"
   },
   {
    "duration": 876,
    "start_time": "2022-06-22T13:02:06.890Z"
   },
   {
    "duration": 4,
    "start_time": "2022-06-22T13:02:07.789Z"
   },
   {
    "duration": 15127,
    "start_time": "2022-06-22T13:02:39.584Z"
   },
   {
    "duration": 5,
    "start_time": "2022-06-22T13:02:54.713Z"
   },
   {
    "duration": 17861,
    "start_time": "2022-06-22T13:05:22.671Z"
   },
   {
    "duration": 5,
    "start_time": "2022-06-22T13:05:40.534Z"
   },
   {
    "duration": 3,
    "start_time": "2022-06-22T13:06:49.452Z"
   },
   {
    "duration": 18321,
    "start_time": "2022-06-22T13:07:04.581Z"
   },
   {
    "duration": 31,
    "start_time": "2022-06-22T13:07:36.876Z"
   },
   {
    "duration": 29,
    "start_time": "2022-06-22T13:07:37.149Z"
   },
   {
    "duration": 29,
    "start_time": "2022-06-22T13:08:56.580Z"
   },
   {
    "duration": 17926,
    "start_time": "2022-06-22T13:09:08.781Z"
   },
   {
    "duration": 17219,
    "start_time": "2022-06-22T13:10:26.829Z"
   },
   {
    "duration": 17005,
    "start_time": "2022-06-22T13:10:44.050Z"
   },
   {
    "duration": 28,
    "start_time": "2022-06-22T13:11:26.872Z"
   },
   {
    "duration": 30,
    "start_time": "2022-06-22T13:11:34.093Z"
   },
   {
    "duration": 1064,
    "start_time": "2022-06-22T13:11:58.668Z"
   },
   {
    "duration": 147,
    "start_time": "2022-06-22T13:11:59.733Z"
   },
   {
    "duration": 35,
    "start_time": "2022-06-22T13:11:59.881Z"
   },
   {
    "duration": 16,
    "start_time": "2022-06-22T13:11:59.927Z"
   },
   {
    "duration": 128,
    "start_time": "2022-06-22T13:11:59.945Z"
   },
   {
    "duration": 33,
    "start_time": "2022-06-22T13:12:00.075Z"
   },
   {
    "duration": 26,
    "start_time": "2022-06-22T13:12:00.110Z"
   },
   {
    "duration": 137,
    "start_time": "2022-06-22T13:12:00.138Z"
   },
   {
    "duration": 36,
    "start_time": "2022-06-22T13:12:00.277Z"
   },
   {
    "duration": 18,
    "start_time": "2022-06-22T13:12:00.328Z"
   },
   {
    "duration": 19,
    "start_time": "2022-06-22T13:12:00.348Z"
   },
   {
    "duration": 59,
    "start_time": "2022-06-22T13:12:00.370Z"
   },
   {
    "duration": 106,
    "start_time": "2022-06-22T13:12:00.433Z"
   },
   {
    "duration": 54,
    "start_time": "2022-06-22T13:12:00.541Z"
   },
   {
    "duration": 51,
    "start_time": "2022-06-22T13:12:00.597Z"
   },
   {
    "duration": 178,
    "start_time": "2022-06-22T13:12:00.650Z"
   },
   {
    "duration": 15,
    "start_time": "2022-06-22T13:12:00.830Z"
   },
   {
    "duration": 79,
    "start_time": "2022-06-22T13:12:00.847Z"
   },
   {
    "duration": 103,
    "start_time": "2022-06-22T13:12:00.930Z"
   },
   {
    "duration": 5,
    "start_time": "2022-06-22T13:12:01.035Z"
   },
   {
    "duration": 14,
    "start_time": "2022-06-22T13:12:01.041Z"
   },
   {
    "duration": 185,
    "start_time": "2022-06-22T13:12:01.056Z"
   },
   {
    "duration": 198,
    "start_time": "2022-06-22T13:12:01.242Z"
   },
   {
    "duration": 195,
    "start_time": "2022-06-22T13:12:01.441Z"
   },
   {
    "duration": 3,
    "start_time": "2022-06-22T13:12:01.638Z"
   },
   {
    "duration": 40,
    "start_time": "2022-06-22T13:12:01.642Z"
   },
   {
    "duration": 20,
    "start_time": "2022-06-22T13:12:01.683Z"
   },
   {
    "duration": 50,
    "start_time": "2022-06-22T13:12:01.706Z"
   },
   {
    "duration": 17746,
    "start_time": "2022-06-22T13:12:01.758Z"
   },
   {
    "duration": 1,
    "start_time": "2022-06-22T13:12:19.505Z"
   },
   {
    "duration": 0,
    "start_time": "2022-06-22T13:12:19.506Z"
   },
   {
    "duration": 17454,
    "start_time": "2022-06-22T13:13:19.872Z"
   },
   {
    "duration": 17077,
    "start_time": "2022-06-22T13:13:37.328Z"
   },
   {
    "duration": 17821,
    "start_time": "2022-06-22T13:13:54.407Z"
   },
   {
    "duration": 17766,
    "start_time": "2022-06-22T14:33:02.215Z"
   },
   {
    "duration": 17502,
    "start_time": "2022-06-22T14:33:19.983Z"
   },
   {
    "duration": 17641,
    "start_time": "2022-06-22T14:33:37.487Z"
   },
   {
    "duration": 15352,
    "start_time": "2022-06-22T14:40:53.491Z"
   },
   {
    "duration": 21,
    "start_time": "2022-06-22T14:44:25.529Z"
   },
   {
    "duration": 34,
    "start_time": "2022-06-22T14:45:12.892Z"
   },
   {
    "duration": 52,
    "start_time": "2022-06-22T14:46:32.172Z"
   },
   {
    "duration": 1065,
    "start_time": "2022-06-22T14:46:39.752Z"
   },
   {
    "duration": 396,
    "start_time": "2022-06-22T14:46:40.819Z"
   },
   {
    "duration": 36,
    "start_time": "2022-06-22T14:46:41.219Z"
   },
   {
    "duration": 20,
    "start_time": "2022-06-22T14:46:41.257Z"
   },
   {
    "duration": 205,
    "start_time": "2022-06-22T14:46:41.279Z"
   },
   {
    "duration": 39,
    "start_time": "2022-06-22T14:46:41.486Z"
   },
   {
    "duration": 17,
    "start_time": "2022-06-22T14:46:41.527Z"
   },
   {
    "duration": 214,
    "start_time": "2022-06-22T14:46:41.545Z"
   },
   {
    "duration": 35,
    "start_time": "2022-06-22T14:46:41.760Z"
   },
   {
    "duration": 18,
    "start_time": "2022-06-22T14:46:41.796Z"
   },
   {
    "duration": 23,
    "start_time": "2022-06-22T14:46:41.816Z"
   },
   {
    "duration": 30,
    "start_time": "2022-06-22T14:46:41.840Z"
   },
   {
    "duration": 95,
    "start_time": "2022-06-22T14:46:41.932Z"
   },
   {
    "duration": 15,
    "start_time": "2022-06-22T14:46:42.029Z"
   },
   {
    "duration": 83,
    "start_time": "2022-06-22T14:46:42.045Z"
   },
   {
    "duration": 96,
    "start_time": "2022-06-22T14:46:42.130Z"
   },
   {
    "duration": 15,
    "start_time": "2022-06-22T14:46:42.228Z"
   },
   {
    "duration": 17,
    "start_time": "2022-06-22T14:46:42.245Z"
   },
   {
    "duration": 65,
    "start_time": "2022-06-22T14:46:42.264Z"
   },
   {
    "duration": 96,
    "start_time": "2022-06-22T14:46:42.332Z"
   },
   {
    "duration": 9,
    "start_time": "2022-06-22T14:46:42.430Z"
   },
   {
    "duration": 187,
    "start_time": "2022-06-22T14:46:42.441Z"
   },
   {
    "duration": 112,
    "start_time": "2022-06-22T14:46:42.630Z"
   },
   {
    "duration": 210,
    "start_time": "2022-06-22T14:46:42.828Z"
   },
   {
    "duration": 3,
    "start_time": "2022-06-22T14:46:43.040Z"
   },
   {
    "duration": 24,
    "start_time": "2022-06-22T14:46:43.044Z"
   },
   {
    "duration": 18,
    "start_time": "2022-06-22T14:46:43.070Z"
   },
   {
    "duration": 41,
    "start_time": "2022-06-22T14:46:43.090Z"
   },
   {
    "duration": 120,
    "start_time": "2022-06-22T14:46:43.132Z"
   },
   {
    "duration": 0,
    "start_time": "2022-06-22T14:46:43.254Z"
   },
   {
    "duration": 0,
    "start_time": "2022-06-22T14:46:43.255Z"
   },
   {
    "duration": 47,
    "start_time": "2022-06-22T14:48:59.069Z"
   },
   {
    "duration": 1130,
    "start_time": "2022-06-22T14:49:02.734Z"
   },
   {
    "duration": 404,
    "start_time": "2022-06-22T14:49:03.867Z"
   },
   {
    "duration": 35,
    "start_time": "2022-06-22T14:49:04.272Z"
   },
   {
    "duration": 18,
    "start_time": "2022-06-22T14:49:04.309Z"
   },
   {
    "duration": 201,
    "start_time": "2022-06-22T14:49:04.329Z"
   },
   {
    "duration": 35,
    "start_time": "2022-06-22T14:49:04.531Z"
   },
   {
    "duration": 18,
    "start_time": "2022-06-22T14:49:04.568Z"
   },
   {
    "duration": 215,
    "start_time": "2022-06-22T14:49:04.588Z"
   },
   {
    "duration": 37,
    "start_time": "2022-06-22T14:49:04.805Z"
   },
   {
    "duration": 19,
    "start_time": "2022-06-22T14:49:04.846Z"
   },
   {
    "duration": 15,
    "start_time": "2022-06-22T14:49:04.867Z"
   },
   {
    "duration": 46,
    "start_time": "2022-06-22T14:49:04.884Z"
   },
   {
    "duration": 99,
    "start_time": "2022-06-22T14:49:04.932Z"
   },
   {
    "duration": 14,
    "start_time": "2022-06-22T14:49:05.033Z"
   },
   {
    "duration": 18,
    "start_time": "2022-06-22T14:49:05.049Z"
   },
   {
    "duration": 160,
    "start_time": "2022-06-22T14:49:05.069Z"
   },
   {
    "duration": 24,
    "start_time": "2022-06-22T14:49:05.231Z"
   },
   {
    "duration": 18,
    "start_time": "2022-06-22T14:49:05.257Z"
   },
   {
    "duration": 98,
    "start_time": "2022-06-22T14:49:05.329Z"
   },
   {
    "duration": 10,
    "start_time": "2022-06-22T14:49:05.429Z"
   },
   {
    "duration": 11,
    "start_time": "2022-06-22T14:49:05.440Z"
   },
   {
    "duration": 189,
    "start_time": "2022-06-22T14:49:05.452Z"
   },
   {
    "duration": 188,
    "start_time": "2022-06-22T14:49:05.643Z"
   },
   {
    "duration": 200,
    "start_time": "2022-06-22T14:49:05.832Z"
   },
   {
    "duration": 3,
    "start_time": "2022-06-22T14:49:06.034Z"
   },
   {
    "duration": 26,
    "start_time": "2022-06-22T14:49:06.039Z"
   },
   {
    "duration": 19,
    "start_time": "2022-06-22T14:49:06.067Z"
   },
   {
    "duration": 41,
    "start_time": "2022-06-22T14:49:06.089Z"
   },
   {
    "duration": 48,
    "start_time": "2022-06-22T14:52:58.391Z"
   },
   {
    "duration": 1125,
    "start_time": "2022-06-22T14:53:07.105Z"
   },
   {
    "duration": 387,
    "start_time": "2022-06-22T14:53:08.232Z"
   },
   {
    "duration": 38,
    "start_time": "2022-06-22T14:53:08.620Z"
   },
   {
    "duration": 18,
    "start_time": "2022-06-22T14:53:08.660Z"
   },
   {
    "duration": 197,
    "start_time": "2022-06-22T14:53:08.679Z"
   },
   {
    "duration": 33,
    "start_time": "2022-06-22T14:53:08.878Z"
   },
   {
    "duration": 16,
    "start_time": "2022-06-22T14:53:08.913Z"
   },
   {
    "duration": 208,
    "start_time": "2022-06-22T14:53:08.931Z"
   },
   {
    "duration": 37,
    "start_time": "2022-06-22T14:53:09.140Z"
   },
   {
    "duration": 20,
    "start_time": "2022-06-22T14:53:09.181Z"
   },
   {
    "duration": 33,
    "start_time": "2022-06-22T14:53:09.203Z"
   },
   {
    "duration": 16,
    "start_time": "2022-06-22T14:53:09.238Z"
   },
   {
    "duration": 83,
    "start_time": "2022-06-22T14:53:09.255Z"
   },
   {
    "duration": 14,
    "start_time": "2022-06-22T14:53:09.429Z"
   },
   {
    "duration": 17,
    "start_time": "2022-06-22T14:53:09.445Z"
   },
   {
    "duration": 8,
    "start_time": "2022-06-22T14:53:09.528Z"
   },
   {
    "duration": 16,
    "start_time": "2022-06-22T14:53:09.628Z"
   },
   {
    "duration": 16,
    "start_time": "2022-06-22T14:53:09.646Z"
   },
   {
    "duration": 6,
    "start_time": "2022-06-22T14:53:09.727Z"
   },
   {
    "duration": 102,
    "start_time": "2022-06-22T14:53:09.735Z"
   },
   {
    "duration": 15,
    "start_time": "2022-06-22T14:53:09.839Z"
   },
   {
    "duration": 188,
    "start_time": "2022-06-22T14:53:09.855Z"
   },
   {
    "duration": 183,
    "start_time": "2022-06-22T14:53:10.046Z"
   },
   {
    "duration": 212,
    "start_time": "2022-06-22T14:53:10.230Z"
   },
   {
    "duration": 3,
    "start_time": "2022-06-22T14:53:10.444Z"
   },
   {
    "duration": 25,
    "start_time": "2022-06-22T14:53:10.449Z"
   },
   {
    "duration": 20,
    "start_time": "2022-06-22T14:53:10.476Z"
   },
   {
    "duration": 42,
    "start_time": "2022-06-22T14:53:10.499Z"
   },
   {
    "duration": 122,
    "start_time": "2022-06-22T14:53:10.542Z"
   },
   {
    "duration": 0,
    "start_time": "2022-06-22T14:53:10.666Z"
   },
   {
    "duration": 0,
    "start_time": "2022-06-22T14:53:10.667Z"
   },
   {
    "duration": 942,
    "start_time": "2022-06-22T17:17:41.398Z"
   },
   {
    "duration": 951,
    "start_time": "2022-06-22T17:19:06.943Z"
   },
   {
    "duration": 951,
    "start_time": "2022-06-22T17:20:22.498Z"
   },
   {
    "duration": 1091,
    "start_time": "2022-06-23T14:03:31.354Z"
   },
   {
    "duration": 532,
    "start_time": "2022-06-23T14:03:32.447Z"
   },
   {
    "duration": 33,
    "start_time": "2022-06-23T14:03:32.980Z"
   },
   {
    "duration": 19,
    "start_time": "2022-06-23T14:03:33.015Z"
   },
   {
    "duration": 535,
    "start_time": "2022-06-23T14:03:33.038Z"
   },
   {
    "duration": 40,
    "start_time": "2022-06-23T14:03:33.575Z"
   },
   {
    "duration": 20,
    "start_time": "2022-06-23T14:03:33.616Z"
   },
   {
    "duration": 518,
    "start_time": "2022-06-23T14:03:33.638Z"
   },
   {
    "duration": 36,
    "start_time": "2022-06-23T14:03:34.157Z"
   },
   {
    "duration": 18,
    "start_time": "2022-06-23T14:03:34.195Z"
   },
   {
    "duration": 19,
    "start_time": "2022-06-23T14:03:34.214Z"
   },
   {
    "duration": 23,
    "start_time": "2022-06-23T14:03:34.235Z"
   },
   {
    "duration": 104,
    "start_time": "2022-06-23T14:03:34.330Z"
   },
   {
    "duration": 17,
    "start_time": "2022-06-23T14:03:34.437Z"
   },
   {
    "duration": 177,
    "start_time": "2022-06-23T14:03:34.456Z"
   },
   {
    "duration": 15,
    "start_time": "2022-06-23T14:03:34.635Z"
   },
   {
    "duration": 80,
    "start_time": "2022-06-23T14:03:34.652Z"
   },
   {
    "duration": 101,
    "start_time": "2022-06-23T14:03:34.733Z"
   },
   {
    "duration": 195,
    "start_time": "2022-06-23T14:03:34.835Z"
   },
   {
    "duration": 201,
    "start_time": "2022-06-23T14:03:35.032Z"
   },
   {
    "duration": 195,
    "start_time": "2022-06-23T14:03:35.235Z"
   },
   {
    "duration": 4,
    "start_time": "2022-06-23T14:03:35.431Z"
   },
   {
    "duration": 25,
    "start_time": "2022-06-23T14:03:35.436Z"
   },
   {
    "duration": 19,
    "start_time": "2022-06-23T14:03:35.463Z"
   },
   {
    "duration": 47,
    "start_time": "2022-06-23T14:03:35.483Z"
   },
   {
    "duration": 903,
    "start_time": "2022-06-23T14:03:35.531Z"
   },
   {
    "duration": 806,
    "start_time": "2022-06-23T14:03:36.436Z"
   },
   {
    "duration": 848,
    "start_time": "2022-06-23T14:03:37.244Z"
   },
   {
    "duration": 3,
    "start_time": "2022-06-23T14:08:16.723Z"
   },
   {
    "duration": 816,
    "start_time": "2022-06-23T14:16:13.791Z"
   },
   {
    "duration": 828,
    "start_time": "2022-06-23T14:16:34.508Z"
   },
   {
    "duration": 866,
    "start_time": "2022-06-23T14:16:49.602Z"
   },
   {
    "duration": 845,
    "start_time": "2022-06-23T14:17:16.478Z"
   },
   {
    "duration": 804,
    "start_time": "2022-06-23T14:17:39.985Z"
   },
   {
    "duration": 888,
    "start_time": "2022-06-23T14:18:35.414Z"
   },
   {
    "duration": 846,
    "start_time": "2022-06-23T14:19:03.827Z"
   },
   {
    "duration": 864,
    "start_time": "2022-06-23T14:19:23.549Z"
   },
   {
    "duration": 875,
    "start_time": "2022-06-23T14:19:46.714Z"
   },
   {
    "duration": 1052,
    "start_time": "2022-06-23T14:21:05.548Z"
   },
   {
    "duration": 135,
    "start_time": "2022-06-23T14:21:06.602Z"
   },
   {
    "duration": 34,
    "start_time": "2022-06-23T14:21:06.738Z"
   },
   {
    "duration": 15,
    "start_time": "2022-06-23T14:21:06.773Z"
   },
   {
    "duration": 120,
    "start_time": "2022-06-23T14:21:06.790Z"
   },
   {
    "duration": 37,
    "start_time": "2022-06-23T14:21:06.911Z"
   },
   {
    "duration": 14,
    "start_time": "2022-06-23T14:21:06.950Z"
   },
   {
    "duration": 121,
    "start_time": "2022-06-23T14:21:06.965Z"
   },
   {
    "duration": 31,
    "start_time": "2022-06-23T14:21:07.087Z"
   },
   {
    "duration": 15,
    "start_time": "2022-06-23T14:21:07.129Z"
   },
   {
    "duration": 10,
    "start_time": "2022-06-23T14:21:07.145Z"
   },
   {
    "duration": 76,
    "start_time": "2022-06-23T14:21:07.157Z"
   },
   {
    "duration": 101,
    "start_time": "2022-06-23T14:21:07.234Z"
   },
   {
    "duration": 16,
    "start_time": "2022-06-23T14:21:07.339Z"
   },
   {
    "duration": 175,
    "start_time": "2022-06-23T14:21:07.357Z"
   },
   {
    "duration": 18,
    "start_time": "2022-06-23T14:21:07.534Z"
   },
   {
    "duration": 4,
    "start_time": "2022-06-23T14:21:07.628Z"
   },
   {
    "duration": 99,
    "start_time": "2022-06-23T14:21:07.634Z"
   },
   {
    "duration": 195,
    "start_time": "2022-06-23T14:21:07.735Z"
   },
   {
    "duration": 109,
    "start_time": "2022-06-23T14:21:07.932Z"
   },
   {
    "duration": 205,
    "start_time": "2022-06-23T14:21:08.130Z"
   },
   {
    "duration": 3,
    "start_time": "2022-06-23T14:21:08.336Z"
   },
   {
    "duration": 39,
    "start_time": "2022-06-23T14:21:08.341Z"
   },
   {
    "duration": 20,
    "start_time": "2022-06-23T14:21:08.381Z"
   },
   {
    "duration": 30,
    "start_time": "2022-06-23T14:21:08.403Z"
   },
   {
    "duration": 899,
    "start_time": "2022-06-23T14:21:08.435Z"
   },
   {
    "duration": 833,
    "start_time": "2022-06-23T14:21:09.335Z"
   },
   {
    "duration": 852,
    "start_time": "2022-06-23T14:21:10.169Z"
   },
   {
    "duration": 9,
    "start_time": "2022-06-24T11:04:54.487Z"
   },
   {
    "duration": 43,
    "start_time": "2022-06-24T11:07:08.018Z"
   },
   {
    "duration": 6,
    "start_time": "2022-06-24T11:07:08.382Z"
   },
   {
    "duration": 7,
    "start_time": "2022-06-24T11:07:08.839Z"
   },
   {
    "duration": 1187,
    "start_time": "2022-06-24T11:07:34.811Z"
   },
   {
    "duration": 556,
    "start_time": "2022-06-24T11:07:36.000Z"
   },
   {
    "duration": 36,
    "start_time": "2022-06-24T11:07:36.558Z"
   },
   {
    "duration": 19,
    "start_time": "2022-06-24T11:07:36.596Z"
   },
   {
    "duration": 592,
    "start_time": "2022-06-24T11:07:36.616Z"
   },
   {
    "duration": 37,
    "start_time": "2022-06-24T11:07:37.209Z"
   },
   {
    "duration": 16,
    "start_time": "2022-06-24T11:07:37.247Z"
   },
   {
    "duration": 593,
    "start_time": "2022-06-24T11:07:37.264Z"
   },
   {
    "duration": 33,
    "start_time": "2022-06-24T11:07:37.858Z"
   },
   {
    "duration": 15,
    "start_time": "2022-06-24T11:07:37.893Z"
   },
   {
    "duration": 10,
    "start_time": "2022-06-24T11:07:37.910Z"
   },
   {
    "duration": 29,
    "start_time": "2022-06-24T11:07:37.922Z"
   },
   {
    "duration": 96,
    "start_time": "2022-06-24T11:07:37.952Z"
   },
   {
    "duration": 105,
    "start_time": "2022-06-24T11:07:38.053Z"
   },
   {
    "duration": 16,
    "start_time": "2022-06-24T11:07:38.229Z"
   },
   {
    "duration": 114,
    "start_time": "2022-06-24T11:07:38.247Z"
   },
   {
    "duration": 3,
    "start_time": "2022-06-24T11:07:38.363Z"
   },
   {
    "duration": 5,
    "start_time": "2022-06-24T11:07:38.433Z"
   },
   {
    "duration": 299,
    "start_time": "2022-06-24T11:07:38.439Z"
   },
   {
    "duration": 109,
    "start_time": "2022-06-24T11:07:38.739Z"
   },
   {
    "duration": 281,
    "start_time": "2022-06-24T11:07:38.849Z"
   },
   {
    "duration": 14,
    "start_time": "2022-06-24T11:07:39.135Z"
   },
   {
    "duration": 23,
    "start_time": "2022-06-24T11:07:39.150Z"
   },
   {
    "duration": 19,
    "start_time": "2022-06-24T11:07:39.175Z"
   },
   {
    "duration": 110,
    "start_time": "2022-06-24T11:07:39.196Z"
   },
   {
    "duration": 0,
    "start_time": "2022-06-24T11:07:39.308Z"
   },
   {
    "duration": 0,
    "start_time": "2022-06-24T11:07:39.309Z"
   },
   {
    "duration": 0,
    "start_time": "2022-06-24T11:07:39.310Z"
   },
   {
    "duration": 19,
    "start_time": "2022-06-24T11:08:09.583Z"
   },
   {
    "duration": 947,
    "start_time": "2022-06-24T11:08:10.627Z"
   },
   {
    "duration": 927,
    "start_time": "2022-06-24T11:08:11.577Z"
   },
   {
    "duration": 964,
    "start_time": "2022-06-24T11:08:12.506Z"
   },
   {
    "duration": 870,
    "start_time": "2022-06-24T11:10:30.797Z"
   },
   {
    "duration": 880,
    "start_time": "2022-06-24T11:10:49.623Z"
   },
   {
    "duration": 852,
    "start_time": "2022-06-24T11:10:56.429Z"
   },
   {
    "duration": 972,
    "start_time": "2022-06-24T11:12:16.150Z"
   },
   {
    "duration": 1203,
    "start_time": "2022-06-24T11:12:34.219Z"
   },
   {
    "duration": 175,
    "start_time": "2022-06-24T11:12:35.424Z"
   },
   {
    "duration": 57,
    "start_time": "2022-06-24T11:12:35.600Z"
   },
   {
    "duration": 20,
    "start_time": "2022-06-24T11:12:35.660Z"
   },
   {
    "duration": 146,
    "start_time": "2022-06-24T11:12:35.681Z"
   },
   {
    "duration": 54,
    "start_time": "2022-06-24T11:12:35.829Z"
   },
   {
    "duration": 17,
    "start_time": "2022-06-24T11:12:35.885Z"
   },
   {
    "duration": 159,
    "start_time": "2022-06-24T11:12:35.904Z"
   },
   {
    "duration": 48,
    "start_time": "2022-06-24T11:12:36.066Z"
   },
   {
    "duration": 39,
    "start_time": "2022-06-24T11:12:36.117Z"
   },
   {
    "duration": 32,
    "start_time": "2022-06-24T11:12:36.158Z"
   },
   {
    "duration": 20,
    "start_time": "2022-06-24T11:12:36.192Z"
   },
   {
    "duration": 99,
    "start_time": "2022-06-24T11:12:36.234Z"
   },
   {
    "duration": 39,
    "start_time": "2022-06-24T11:12:36.337Z"
   },
   {
    "duration": 78,
    "start_time": "2022-06-24T11:12:36.379Z"
   },
   {
    "duration": 93,
    "start_time": "2022-06-24T11:12:36.461Z"
   },
   {
    "duration": 8,
    "start_time": "2022-06-24T11:12:36.556Z"
   },
   {
    "duration": 191,
    "start_time": "2022-06-24T11:12:36.565Z"
   },
   {
    "duration": 93,
    "start_time": "2022-06-24T11:12:36.757Z"
   },
   {
    "duration": 284,
    "start_time": "2022-06-24T11:12:36.854Z"
   },
   {
    "duration": 196,
    "start_time": "2022-06-24T11:12:37.140Z"
   },
   {
    "duration": 19,
    "start_time": "2022-06-24T11:12:37.338Z"
   },
   {
    "duration": 24,
    "start_time": "2022-06-24T11:12:37.359Z"
   },
   {
    "duration": 20,
    "start_time": "2022-06-24T11:12:37.385Z"
   },
   {
    "duration": 31,
    "start_time": "2022-06-24T11:12:37.407Z"
   },
   {
    "duration": 923,
    "start_time": "2022-06-24T11:12:37.441Z"
   },
   {
    "duration": 890,
    "start_time": "2022-06-24T11:12:38.366Z"
   },
   {
    "duration": 881,
    "start_time": "2022-06-24T11:12:39.260Z"
   },
   {
    "duration": 1072,
    "start_time": "2022-06-24T11:13:31.203Z"
   },
   {
    "duration": 175,
    "start_time": "2022-06-24T11:13:32.276Z"
   },
   {
    "duration": 39,
    "start_time": "2022-06-24T11:13:32.453Z"
   },
   {
    "duration": 20,
    "start_time": "2022-06-24T11:13:32.495Z"
   },
   {
    "duration": 145,
    "start_time": "2022-06-24T11:13:32.529Z"
   },
   {
    "duration": 41,
    "start_time": "2022-06-24T11:13:32.675Z"
   },
   {
    "duration": 34,
    "start_time": "2022-06-24T11:13:32.717Z"
   },
   {
    "duration": 169,
    "start_time": "2022-06-24T11:13:32.753Z"
   },
   {
    "duration": 46,
    "start_time": "2022-06-24T11:13:32.924Z"
   },
   {
    "duration": 20,
    "start_time": "2022-06-24T11:13:32.973Z"
   },
   {
    "duration": 45,
    "start_time": "2022-06-24T11:13:32.995Z"
   },
   {
    "duration": 26,
    "start_time": "2022-06-24T11:13:33.050Z"
   },
   {
    "duration": 186,
    "start_time": "2022-06-24T11:13:33.078Z"
   },
   {
    "duration": 75,
    "start_time": "2022-06-24T11:13:33.267Z"
   },
   {
    "duration": 126,
    "start_time": "2022-06-24T11:13:33.344Z"
   },
   {
    "duration": 65,
    "start_time": "2022-06-24T11:13:33.472Z"
   },
   {
    "duration": 89,
    "start_time": "2022-06-24T11:13:33.541Z"
   },
   {
    "duration": 34,
    "start_time": "2022-06-24T11:13:33.632Z"
   },
   {
    "duration": 182,
    "start_time": "2022-06-24T11:13:33.668Z"
   },
   {
    "duration": 189,
    "start_time": "2022-06-24T11:13:33.852Z"
   },
   {
    "duration": 201,
    "start_time": "2022-06-24T11:13:34.042Z"
   },
   {
    "duration": 4,
    "start_time": "2022-06-24T11:13:34.247Z"
   },
   {
    "duration": 52,
    "start_time": "2022-06-24T11:13:34.253Z"
   },
   {
    "duration": 23,
    "start_time": "2022-06-24T11:13:34.307Z"
   },
   {
    "duration": 32,
    "start_time": "2022-06-24T11:13:34.337Z"
   },
   {
    "duration": 1193,
    "start_time": "2022-06-24T11:13:34.372Z"
   },
   {
    "duration": 1089,
    "start_time": "2022-06-24T11:13:35.567Z"
   },
   {
    "duration": 1061,
    "start_time": "2022-06-24T11:13:36.659Z"
   },
   {
    "duration": 88,
    "start_time": "2022-06-24T11:14:18.810Z"
   },
   {
    "duration": 95,
    "start_time": "2022-06-24T11:19:40.679Z"
   },
   {
    "duration": 884,
    "start_time": "2022-06-24T11:20:08.213Z"
   },
   {
    "duration": 111,
    "start_time": "2022-06-24T11:21:12.779Z"
   },
   {
    "duration": 946,
    "start_time": "2022-06-24T11:22:57.544Z"
   },
   {
    "duration": 988,
    "start_time": "2022-06-24T11:23:06.232Z"
   },
   {
    "duration": 899,
    "start_time": "2022-06-24T11:24:04.680Z"
   },
   {
    "duration": 1116,
    "start_time": "2022-06-24T11:24:13.008Z"
   },
   {
    "duration": 5,
    "start_time": "2022-06-24T11:25:42.648Z"
   },
   {
    "duration": 1178,
    "start_time": "2022-06-24T11:25:48.025Z"
   },
   {
    "duration": 191,
    "start_time": "2022-06-24T11:25:49.205Z"
   },
   {
    "duration": 46,
    "start_time": "2022-06-24T11:25:49.398Z"
   },
   {
    "duration": 19,
    "start_time": "2022-06-24T11:25:49.451Z"
   },
   {
    "duration": 129,
    "start_time": "2022-06-24T11:25:49.472Z"
   },
   {
    "duration": 43,
    "start_time": "2022-06-24T11:25:49.602Z"
   },
   {
    "duration": 17,
    "start_time": "2022-06-24T11:25:49.647Z"
   },
   {
    "duration": 139,
    "start_time": "2022-06-24T11:25:49.665Z"
   },
   {
    "duration": 46,
    "start_time": "2022-06-24T11:25:49.805Z"
   },
   {
    "duration": 23,
    "start_time": "2022-06-24T11:25:49.854Z"
   },
   {
    "duration": 13,
    "start_time": "2022-06-24T11:25:49.879Z"
   },
   {
    "duration": 48,
    "start_time": "2022-06-24T11:25:49.894Z"
   },
   {
    "duration": 84,
    "start_time": "2022-06-24T11:25:49.945Z"
   },
   {
    "duration": 105,
    "start_time": "2022-06-24T11:25:50.034Z"
   },
   {
    "duration": 103,
    "start_time": "2022-06-24T11:25:50.141Z"
   },
   {
    "duration": 28,
    "start_time": "2022-06-24T11:25:50.249Z"
   },
   {
    "duration": 58,
    "start_time": "2022-06-24T11:25:50.282Z"
   },
   {
    "duration": 89,
    "start_time": "2022-06-24T11:25:50.345Z"
   },
   {
    "duration": 206,
    "start_time": "2022-06-24T11:25:50.439Z"
   },
   {
    "duration": 102,
    "start_time": "2022-06-24T11:25:50.647Z"
   },
   {
    "duration": 290,
    "start_time": "2022-06-24T11:25:50.750Z"
   },
   {
    "duration": 17,
    "start_time": "2022-06-24T11:25:51.041Z"
   },
   {
    "duration": 25,
    "start_time": "2022-06-24T11:25:51.060Z"
   },
   {
    "duration": 23,
    "start_time": "2022-06-24T11:25:51.087Z"
   },
   {
    "duration": 39,
    "start_time": "2022-06-24T11:25:51.112Z"
   },
   {
    "duration": 118,
    "start_time": "2022-06-24T11:25:51.153Z"
   },
   {
    "duration": 0,
    "start_time": "2022-06-24T11:25:51.273Z"
   },
   {
    "duration": 0,
    "start_time": "2022-06-24T11:25:51.275Z"
   },
   {
    "duration": 0,
    "start_time": "2022-06-24T11:25:51.278Z"
   },
   {
    "duration": 883,
    "start_time": "2022-06-24T11:26:38.648Z"
   },
   {
    "duration": 1002,
    "start_time": "2022-06-24T11:26:46.098Z"
   },
   {
    "duration": 921,
    "start_time": "2022-06-24T11:27:00.976Z"
   },
   {
    "duration": 846,
    "start_time": "2022-06-24T11:27:30.487Z"
   },
   {
    "duration": 49,
    "start_time": "2022-06-25T09:04:56.608Z"
   },
   {
    "duration": 1105,
    "start_time": "2022-06-25T09:05:00.743Z"
   },
   {
    "duration": 528,
    "start_time": "2022-06-25T09:05:01.850Z"
   },
   {
    "duration": 34,
    "start_time": "2022-06-25T09:05:02.379Z"
   },
   {
    "duration": 16,
    "start_time": "2022-06-25T09:05:02.415Z"
   },
   {
    "duration": 199,
    "start_time": "2022-06-25T09:05:02.432Z"
   },
   {
    "duration": 33,
    "start_time": "2022-06-25T09:05:02.633Z"
   },
   {
    "duration": 17,
    "start_time": "2022-06-25T09:05:02.667Z"
   },
   {
    "duration": 207,
    "start_time": "2022-06-25T09:05:02.686Z"
   },
   {
    "duration": 36,
    "start_time": "2022-06-25T09:05:02.895Z"
   },
   {
    "duration": 26,
    "start_time": "2022-06-25T09:05:02.934Z"
   },
   {
    "duration": 13,
    "start_time": "2022-06-25T09:05:02.962Z"
   },
   {
    "duration": 56,
    "start_time": "2022-06-25T09:05:02.976Z"
   },
   {
    "duration": 99,
    "start_time": "2022-06-25T09:05:03.060Z"
   },
   {
    "duration": 16,
    "start_time": "2022-06-25T09:05:03.161Z"
   },
   {
    "duration": 185,
    "start_time": "2022-06-25T09:05:03.179Z"
   },
   {
    "duration": 17,
    "start_time": "2022-06-25T09:05:03.365Z"
   },
   {
    "duration": 78,
    "start_time": "2022-06-25T09:05:03.384Z"
   },
   {
    "duration": 97,
    "start_time": "2022-06-25T09:05:03.464Z"
   },
   {
    "duration": 201,
    "start_time": "2022-06-25T09:05:03.563Z"
   },
   {
    "duration": 196,
    "start_time": "2022-06-25T09:05:03.765Z"
   },
   {
    "duration": 203,
    "start_time": "2022-06-25T09:05:03.963Z"
   },
   {
    "duration": 3,
    "start_time": "2022-06-25T09:05:04.168Z"
   },
   {
    "duration": 23,
    "start_time": "2022-06-25T09:05:04.172Z"
   },
   {
    "duration": 19,
    "start_time": "2022-06-25T09:05:04.196Z"
   },
   {
    "duration": 43,
    "start_time": "2022-06-25T09:05:04.216Z"
   },
   {
    "duration": 104,
    "start_time": "2022-06-25T09:05:04.261Z"
   },
   {
    "duration": 0,
    "start_time": "2022-06-25T09:05:04.367Z"
   },
   {
    "duration": 0,
    "start_time": "2022-06-25T09:05:04.368Z"
   },
   {
    "duration": 872,
    "start_time": "2022-06-25T09:05:22.494Z"
   },
   {
    "duration": 12,
    "start_time": "2022-06-25T09:05:46.737Z"
   },
   {
    "duration": 865,
    "start_time": "2022-06-25T09:06:06.029Z"
   },
   {
    "duration": 7,
    "start_time": "2022-06-25T09:06:26.688Z"
   },
   {
    "duration": 11,
    "start_time": "2022-06-25T09:06:33.232Z"
   },
   {
    "duration": 833,
    "start_time": "2022-06-25T09:06:50.033Z"
   },
   {
    "duration": 1003,
    "start_time": "2022-06-25T09:08:20.660Z"
   },
   {
    "duration": 31,
    "start_time": "2022-06-25T09:08:33.036Z"
   },
   {
    "duration": 26,
    "start_time": "2022-06-25T09:08:47.514Z"
   },
   {
    "duration": 21,
    "start_time": "2022-06-25T09:08:58.878Z"
   },
   {
    "duration": 851,
    "start_time": "2022-06-25T09:09:13.181Z"
   },
   {
    "duration": 23,
    "start_time": "2022-06-25T09:09:19.157Z"
   },
   {
    "duration": 12,
    "start_time": "2022-06-25T09:10:59.959Z"
   },
   {
    "duration": 836,
    "start_time": "2022-06-25T09:12:00.508Z"
   },
   {
    "duration": 19,
    "start_time": "2022-06-25T09:13:34.315Z"
   },
   {
    "duration": 21,
    "start_time": "2022-06-25T09:14:31.556Z"
   },
   {
    "duration": 7,
    "start_time": "2022-06-25T09:15:06.470Z"
   },
   {
    "duration": 12,
    "start_time": "2022-06-25T09:15:11.112Z"
   },
   {
    "duration": 13,
    "start_time": "2022-06-25T09:15:30.743Z"
   },
   {
    "duration": 12,
    "start_time": "2022-06-25T09:15:37.528Z"
   },
   {
    "duration": 972,
    "start_time": "2022-06-25T09:15:42.195Z"
   },
   {
    "duration": 152,
    "start_time": "2022-06-25T09:15:43.169Z"
   },
   {
    "duration": 39,
    "start_time": "2022-06-25T09:15:43.322Z"
   },
   {
    "duration": 17,
    "start_time": "2022-06-25T09:15:43.364Z"
   },
   {
    "duration": 128,
    "start_time": "2022-06-25T09:15:43.383Z"
   },
   {
    "duration": 34,
    "start_time": "2022-06-25T09:15:43.513Z"
   },
   {
    "duration": 24,
    "start_time": "2022-06-25T09:15:43.549Z"
   },
   {
    "duration": 131,
    "start_time": "2022-06-25T09:15:43.574Z"
   },
   {
    "duration": 35,
    "start_time": "2022-06-25T09:15:43.707Z"
   },
   {
    "duration": 29,
    "start_time": "2022-06-25T09:15:43.744Z"
   },
   {
    "duration": 11,
    "start_time": "2022-06-25T09:15:43.774Z"
   },
   {
    "duration": 17,
    "start_time": "2022-06-25T09:15:43.787Z"
   },
   {
    "duration": 106,
    "start_time": "2022-06-25T09:15:43.860Z"
   },
   {
    "duration": 95,
    "start_time": "2022-06-25T09:15:43.968Z"
   },
   {
    "duration": 102,
    "start_time": "2022-06-25T09:15:44.066Z"
   },
   {
    "duration": 17,
    "start_time": "2022-06-25T09:15:44.170Z"
   },
   {
    "duration": 4,
    "start_time": "2022-06-25T09:15:44.260Z"
   },
   {
    "duration": 99,
    "start_time": "2022-06-25T09:15:44.266Z"
   },
   {
    "duration": 200,
    "start_time": "2022-06-25T09:15:44.367Z"
   },
   {
    "duration": 196,
    "start_time": "2022-06-25T09:15:44.568Z"
   },
   {
    "duration": 201,
    "start_time": "2022-06-25T09:15:44.766Z"
   },
   {
    "duration": 3,
    "start_time": "2022-06-25T09:15:44.969Z"
   },
   {
    "duration": 22,
    "start_time": "2022-06-25T09:15:44.974Z"
   },
   {
    "duration": 20,
    "start_time": "2022-06-25T09:15:44.997Z"
   },
   {
    "duration": 43,
    "start_time": "2022-06-25T09:15:45.019Z"
   },
   {
    "duration": 102,
    "start_time": "2022-06-25T09:15:45.064Z"
   },
   {
    "duration": 0,
    "start_time": "2022-06-25T09:15:45.167Z"
   },
   {
    "duration": 0,
    "start_time": "2022-06-25T09:15:45.169Z"
   },
   {
    "duration": 26,
    "start_time": "2022-06-25T09:20:56.890Z"
   },
   {
    "duration": 12,
    "start_time": "2022-06-25T09:21:04.174Z"
   },
   {
    "duration": 5,
    "start_time": "2022-06-25T09:27:31.692Z"
   },
   {
    "duration": 6,
    "start_time": "2022-06-25T09:28:00.895Z"
   },
   {
    "duration": 6,
    "start_time": "2022-06-25T09:28:04.215Z"
   },
   {
    "duration": 7,
    "start_time": "2022-06-25T09:28:10.757Z"
   },
   {
    "duration": 12,
    "start_time": "2022-06-25T09:28:24.906Z"
   },
   {
    "duration": 3,
    "start_time": "2022-06-25T09:28:41.188Z"
   },
   {
    "duration": 4,
    "start_time": "2022-06-25T09:28:57.511Z"
   },
   {
    "duration": 8,
    "start_time": "2022-06-25T09:29:14.474Z"
   },
   {
    "duration": 6,
    "start_time": "2022-06-25T09:29:42.982Z"
   },
   {
    "duration": 6,
    "start_time": "2022-06-25T09:29:48.281Z"
   },
   {
    "duration": 22,
    "start_time": "2022-06-25T09:29:56.830Z"
   },
   {
    "duration": 6,
    "start_time": "2022-06-25T09:30:09.754Z"
   },
   {
    "duration": 1120,
    "start_time": "2022-06-25T09:30:15.037Z"
   },
   {
    "duration": 155,
    "start_time": "2022-06-25T09:30:16.159Z"
   },
   {
    "duration": 35,
    "start_time": "2022-06-25T09:30:16.316Z"
   },
   {
    "duration": 20,
    "start_time": "2022-06-25T09:30:16.358Z"
   },
   {
    "duration": 138,
    "start_time": "2022-06-25T09:30:16.380Z"
   },
   {
    "duration": 45,
    "start_time": "2022-06-25T09:30:16.520Z"
   },
   {
    "duration": 21,
    "start_time": "2022-06-25T09:30:16.570Z"
   },
   {
    "duration": 147,
    "start_time": "2022-06-25T09:30:16.592Z"
   },
   {
    "duration": 50,
    "start_time": "2022-06-25T09:30:16.742Z"
   },
   {
    "duration": 21,
    "start_time": "2022-06-25T09:30:16.795Z"
   },
   {
    "duration": 11,
    "start_time": "2022-06-25T09:30:16.818Z"
   },
   {
    "duration": 61,
    "start_time": "2022-06-25T09:30:16.831Z"
   },
   {
    "duration": 102,
    "start_time": "2022-06-25T09:30:16.963Z"
   },
   {
    "duration": 34,
    "start_time": "2022-06-25T09:30:17.069Z"
   },
   {
    "duration": 128,
    "start_time": "2022-06-25T09:30:17.160Z"
   },
   {
    "duration": 73,
    "start_time": "2022-06-25T09:30:17.291Z"
   },
   {
    "duration": 6,
    "start_time": "2022-06-25T09:30:17.368Z"
   },
   {
    "duration": 117,
    "start_time": "2022-06-25T09:30:17.375Z"
   },
   {
    "duration": 191,
    "start_time": "2022-06-25T09:30:17.494Z"
   },
   {
    "duration": 179,
    "start_time": "2022-06-25T09:30:17.687Z"
   },
   {
    "duration": 203,
    "start_time": "2022-06-25T09:30:17.869Z"
   },
   {
    "duration": 15,
    "start_time": "2022-06-25T09:30:18.074Z"
   },
   {
    "duration": 22,
    "start_time": "2022-06-25T09:30:18.091Z"
   },
   {
    "duration": 18,
    "start_time": "2022-06-25T09:30:18.114Z"
   },
   {
    "duration": 26,
    "start_time": "2022-06-25T09:30:18.133Z"
   },
   {
    "duration": 11,
    "start_time": "2022-06-25T09:30:18.160Z"
   },
   {
    "duration": 118,
    "start_time": "2022-06-25T09:30:18.173Z"
   },
   {
    "duration": 0,
    "start_time": "2022-06-25T09:30:18.293Z"
   },
   {
    "duration": 0,
    "start_time": "2022-06-25T09:30:18.294Z"
   },
   {
    "duration": 0,
    "start_time": "2022-06-25T09:30:18.295Z"
   },
   {
    "duration": 22,
    "start_time": "2022-06-25T09:30:41.188Z"
   },
   {
    "duration": 1382,
    "start_time": "2022-06-25T09:31:10.349Z"
   },
   {
    "duration": 5,
    "start_time": "2022-06-25T09:32:16.098Z"
   },
   {
    "duration": 1421,
    "start_time": "2022-06-25T09:32:19.972Z"
   },
   {
    "duration": 1161,
    "start_time": "2022-06-25T09:32:25.147Z"
   },
   {
    "duration": 1508,
    "start_time": "2022-06-25T09:32:46.506Z"
   },
   {
    "duration": 1468,
    "start_time": "2022-06-25T09:32:54.434Z"
   }
  ],
  "kernelspec": {
   "display_name": "Python 3 (ipykernel)",
   "language": "python",
   "name": "python3"
  },
  "language_info": {
   "codemirror_mode": {
    "name": "ipython",
    "version": 3
   },
   "file_extension": ".py",
   "mimetype": "text/x-python",
   "name": "python",
   "nbconvert_exporter": "python",
   "pygments_lexer": "ipython3",
   "version": "3.9.5"
  },
  "toc": {
   "base_numbering": 1,
   "nav_menu": {},
   "number_sections": true,
   "sideBar": true,
   "skip_h1_title": true,
   "title_cell": "Table of Contents",
   "title_sidebar": "Contents",
   "toc_cell": false,
   "toc_position": {},
   "toc_section_display": true,
   "toc_window_display": false
  }
 },
 "nbformat": 4,
 "nbformat_minor": 2
}
